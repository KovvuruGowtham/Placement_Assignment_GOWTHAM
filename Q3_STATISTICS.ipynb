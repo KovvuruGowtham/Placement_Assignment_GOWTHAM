{
 "cells": [
  {
   "cell_type": "code",
   "execution_count": null,
   "id": "0d538203-9fec-476d-927d-f28aaa762595",
   "metadata": {},
   "outputs": [],
   "source": [
    "### Question 3:"
   ]
  },
  {
   "cell_type": "code",
   "execution_count": null,
   "id": "2c6ec97d-f638-4e48-bb42-fdd7a0f02099",
   "metadata": {},
   "outputs": [],
   "source": [
    "a. Measure the dispersion in both and interpret the results"
   ]
  },
  {
   "cell_type": "code",
   "execution_count": 4,
   "id": "75b3df95-b4eb-44f0-a09c-98dfb0fa8cfa",
   "metadata": {},
   "outputs": [],
   "source": [
    "import pandas as pd"
   ]
  },
  {
   "cell_type": "code",
   "execution_count": 9,
   "id": "369c37c5-d527-4b55-84b4-0ac38913cdef",
   "metadata": {},
   "outputs": [],
   "source": [
    "data=pd.read_csv('data.csv')"
   ]
  },
  {
   "cell_type": "code",
   "execution_count": 10,
   "id": "69b63bb7-1754-46c1-9ce7-d86a93f5d87c",
   "metadata": {},
   "outputs": [
    {
     "data": {
      "text/html": [
       "<div>\n",
       "<style scoped>\n",
       "    .dataframe tbody tr th:only-of-type {\n",
       "        vertical-align: middle;\n",
       "    }\n",
       "\n",
       "    .dataframe tbody tr th {\n",
       "        vertical-align: top;\n",
       "    }\n",
       "\n",
       "    .dataframe thead th {\n",
       "        text-align: right;\n",
       "    }\n",
       "</style>\n",
       "<table border=\"1\" class=\"dataframe\">\n",
       "  <thead>\n",
       "    <tr style=\"text-align: right;\">\n",
       "      <th></th>\n",
       "      <th>Patient ID</th>\n",
       "      <th>Blood Pressure Before (mmHg)</th>\n",
       "      <th>Blood Pressure After (mmHg)</th>\n",
       "    </tr>\n",
       "  </thead>\n",
       "  <tbody>\n",
       "    <tr>\n",
       "      <th>0</th>\n",
       "      <td>1</td>\n",
       "      <td>130</td>\n",
       "      <td>120</td>\n",
       "    </tr>\n",
       "    <tr>\n",
       "      <th>1</th>\n",
       "      <td>2</td>\n",
       "      <td>142</td>\n",
       "      <td>135</td>\n",
       "    </tr>\n",
       "    <tr>\n",
       "      <th>2</th>\n",
       "      <td>3</td>\n",
       "      <td>120</td>\n",
       "      <td>118</td>\n",
       "    </tr>\n",
       "    <tr>\n",
       "      <th>3</th>\n",
       "      <td>4</td>\n",
       "      <td>135</td>\n",
       "      <td>127</td>\n",
       "    </tr>\n",
       "    <tr>\n",
       "      <th>4</th>\n",
       "      <td>5</td>\n",
       "      <td>148</td>\n",
       "      <td>140</td>\n",
       "    </tr>\n",
       "    <tr>\n",
       "      <th>...</th>\n",
       "      <td>...</td>\n",
       "      <td>...</td>\n",
       "      <td>...</td>\n",
       "    </tr>\n",
       "    <tr>\n",
       "      <th>95</th>\n",
       "      <td>96</td>\n",
       "      <td>136</td>\n",
       "      <td>129</td>\n",
       "    </tr>\n",
       "    <tr>\n",
       "      <th>96</th>\n",
       "      <td>97</td>\n",
       "      <td>143</td>\n",
       "      <td>137</td>\n",
       "    </tr>\n",
       "    <tr>\n",
       "      <th>97</th>\n",
       "      <td>98</td>\n",
       "      <td>127</td>\n",
       "      <td>123</td>\n",
       "    </tr>\n",
       "    <tr>\n",
       "      <th>98</th>\n",
       "      <td>99</td>\n",
       "      <td>139</td>\n",
       "      <td>135</td>\n",
       "    </tr>\n",
       "    <tr>\n",
       "      <th>99</th>\n",
       "      <td>100</td>\n",
       "      <td>135</td>\n",
       "      <td>130</td>\n",
       "    </tr>\n",
       "  </tbody>\n",
       "</table>\n",
       "<p>100 rows × 3 columns</p>\n",
       "</div>"
      ],
      "text/plain": [
       "    Patient ID   Blood Pressure Before (mmHg)   Blood Pressure After (mmHg)\n",
       "0            1                            130                           120\n",
       "1            2                            142                           135\n",
       "2            3                            120                           118\n",
       "3            4                            135                           127\n",
       "4            5                            148                           140\n",
       "..         ...                            ...                           ...\n",
       "95          96                            136                           129\n",
       "96          97                            143                           137\n",
       "97          98                            127                           123\n",
       "98          99                            139                           135\n",
       "99         100                            135                           130\n",
       "\n",
       "[100 rows x 3 columns]"
      ]
     },
     "execution_count": 10,
     "metadata": {},
     "output_type": "execute_result"
    }
   ],
   "source": [
    "data"
   ]
  },
  {
   "cell_type": "code",
   "execution_count": 19,
   "id": "3ad81840-8a25-4ea4-aae0-5ccfd8035362",
   "metadata": {},
   "outputs": [
    {
     "data": {
      "text/plain": [
       "Index(['Patient ID', ' Blood Pressure Before (mmHg)',\n",
       "       ' Blood Pressure After (mmHg)'],\n",
       "      dtype='object')"
      ]
     },
     "execution_count": 19,
     "metadata": {},
     "output_type": "execute_result"
    }
   ],
   "source": [
    "data.columns ##Let us find the names of the columns in the dataset"
   ]
  },
  {
   "cell_type": "code",
   "execution_count": 17,
   "id": "edda1ad5-9edf-4c2f-ad97-650fede2bfd7",
   "metadata": {},
   "outputs": [],
   "source": [
    "### calculating the range of both the columns: ' Blood Pressure Before (mmHg)' and ' Blood Pressure After (mmHg)'\n",
    "range_before = data[' Blood Pressure Before (mmHg)'].max()-data[' Blood Pressure Before (mmHg)'].min()\n",
    "range_after = data[' Blood Pressure After (mmHg)'].max()-data[' Blood Pressure After (mmHg)'].min()"
   ]
  },
  {
   "cell_type": "code",
   "execution_count": 22,
   "id": "a5ab22e0-e071-41ad-82b1-92a0f9036c1f",
   "metadata": {},
   "outputs": [],
   "source": [
    "### calculating the variance of both the columns:\n",
    "variance_before = data[' Blood Pressure Before (mmHg)'].var()\n",
    "variance_after = data[' Blood Pressure After (mmHg)'].var()"
   ]
  },
  {
   "cell_type": "code",
   "execution_count": 25,
   "id": "6c0ceb2f-8930-47e3-a8a3-83bbf7925c3f",
   "metadata": {},
   "outputs": [],
   "source": [
    "### Calculating the standard deviation of both the columns:\n",
    "std_before = data[' Blood Pressure Before (mmHg)'].std()\n",
    "std_after = data[' Blood Pressure After (mmHg)'].std()"
   ]
  },
  {
   "cell_type": "code",
   "execution_count": 30,
   "id": "7dad79ba-b180-4896-852d-b9e5a68e1c2e",
   "metadata": {},
   "outputs": [
    {
     "data": {
      "text/html": [
       "<div>\n",
       "<style scoped>\n",
       "    .dataframe tbody tr th:only-of-type {\n",
       "        vertical-align: middle;\n",
       "    }\n",
       "\n",
       "    .dataframe tbody tr th {\n",
       "        vertical-align: top;\n",
       "    }\n",
       "\n",
       "    .dataframe thead th {\n",
       "        text-align: right;\n",
       "    }\n",
       "</style>\n",
       "<table border=\"1\" class=\"dataframe\">\n",
       "  <thead>\n",
       "    <tr style=\"text-align: right;\">\n",
       "      <th></th>\n",
       "      <th>Blood Pressure Before (mmHg)</th>\n",
       "      <th>Blood Pressure After (mmHg)</th>\n",
       "    </tr>\n",
       "  </thead>\n",
       "  <tbody>\n",
       "    <tr>\n",
       "      <th>range</th>\n",
       "      <td>28.000000</td>\n",
       "      <td>23.000000</td>\n",
       "    </tr>\n",
       "    <tr>\n",
       "      <th>variance</th>\n",
       "      <td>43.537273</td>\n",
       "      <td>47.444848</td>\n",
       "    </tr>\n",
       "    <tr>\n",
       "      <th>standard_dev</th>\n",
       "      <td>6.598278</td>\n",
       "      <td>6.888022</td>\n",
       "    </tr>\n",
       "  </tbody>\n",
       "</table>\n",
       "</div>"
      ],
      "text/plain": [
       "              Blood Pressure Before (mmHg)  Blood Pressure After (mmHg)\n",
       "range                            28.000000                    23.000000\n",
       "variance                         43.537273                    47.444848\n",
       "standard_dev                      6.598278                     6.888022"
      ]
     },
     "execution_count": 30,
     "metadata": {},
     "output_type": "execute_result"
    }
   ],
   "source": [
    "pd.DataFrame({'Blood Pressure Before (mmHg)':[range_before,variance_before,std_before],\n",
    "              'Blood Pressure After (mmHg)':[range_after,variance_after,std_after]},index=['range','variance','standard_dev'])\n"
   ]
  },
  {
   "cell_type": "markdown",
   "id": "48c1d821-e71f-4cf3-b73c-9659cadac4b4",
   "metadata": {},
   "source": [
    "#### 1. The range of 'Blood Pressure Before (mmHg)' is higher than the 'Blood Pressure After (mmHg)'\n",
    "#### 2. From values of variance and the standard deviation, we can infer that 'Blood Pressure After' has greater spread or dispersion of values around the mean than the 'Blood Pressure Before' values."
   ]
  },
  {
   "cell_type": "code",
   "execution_count": null,
   "id": "2651c6fd-c1de-4e36-b099-7b6384143597",
   "metadata": {},
   "outputs": [],
   "source": [
    "b. Calculate mean and 5% confidence interval and plot it in a graph"
   ]
  },
  {
   "cell_type": "code",
   "execution_count": 32,
   "id": "4ae496cd-ddcc-4535-bd65-ca32c8b39684",
   "metadata": {},
   "outputs": [],
   "source": [
    "import numpy as np\n",
    "import matplotlib.pyplot as plt\n",
    "import seaborn as sns\n",
    "from scipy import stats"
   ]
  },
  {
   "cell_type": "code",
   "execution_count": 35,
   "id": "7297e2f8-c263-468b-a550-5f69b2c2f990",
   "metadata": {},
   "outputs": [],
   "source": [
    "### Let us calculate mean of both the columns using np.mean()\n",
    "mean_before=np.mean(data[' Blood Pressure Before (mmHg)'])\n",
    "mean_after=np.mean(data[' Blood Pressure After (mmHg)'])"
   ]
  },
  {
   "cell_type": "code",
   "execution_count": 36,
   "id": "b564759b-66b3-410a-b0cd-633e4b650318",
   "metadata": {},
   "outputs": [
    {
     "data": {
      "text/plain": [
       "(132.60075849172767, 135.21924150827232)"
      ]
     },
     "execution_count": 36,
     "metadata": {},
     "output_type": "execute_result"
    }
   ],
   "source": [
    "### Calculating the Confidence Interval of both the columns using the stats module\n",
    "ci_before=stats.t.interval(0.95,len(data[' Blood Pressure Before (mmHg)'])-1,loc=mean_before,scale=stats.sem(data[' Blood Pressure Before (mmHg)']))\n",
    "ci_before"
   ]
  },
  {
   "cell_type": "code",
   "execution_count": 37,
   "id": "15a167f8-3244-4163-888a-a40ca64dc032",
   "metadata": {},
   "outputs": [
    {
     "data": {
      "text/plain": [
       "(126.99326697818071, 129.7267330218193)"
      ]
     },
     "execution_count": 37,
     "metadata": {},
     "output_type": "execute_result"
    }
   ],
   "source": [
    "ci_after=stats.t.interval(0.95,len(data[' Blood Pressure After (mmHg)'])-1,loc=mean_after,scale=stats.sem(data[' Blood Pressure After (mmHg)']))\n",
    "ci_after"
   ]
  },
  {
   "cell_type": "code",
   "execution_count": 44,
   "id": "0a17a035-2eac-4f5e-a718-ebebfb955a92",
   "metadata": {},
   "outputs": [
    {
     "data": {
      "image/png": "[encoded data removed]",
      "text/plain": [
       "<Figure size 1000x500 with 1 Axes>"
      ]
     },
     "metadata": {},
     "output_type": "display_data"
    }
   ],
   "source": [
    "### Plotting both the column values along with their repective means and confidence intervals\n",
    "plt.figure(figsize=(10, 5))\n",
    "sns.kdeplot(data[' Blood Pressure Before (mmHg)'], fill=True, label='Before')\n",
    "sns.kdeplot(data[' Blood Pressure After (mmHg)'], fill=True, label='After')\n",
    "plt.axvline(x=mean_before, linestyle='--', color='blue', label='Mean Before')\n",
    "plt.axvline(x=mean_after, linestyle='--', color='orange', label='Mean After')\n",
    "plt.fill_betweenx([0,0.06],ci_before[0],ci_before[1],alpha=0.3,color='blue',label='Confidence Interval Before')\n",
    "plt.fill_betweenx([0,0.06], ci_after[0],ci_after[1],alpha=0.3,color='orange',label='Confidence Interval After')\n",
    "plt.title('Blood Pressure Distribution')\n",
    "plt.xlabel('Blood Pressure (mmHg)')\n",
    "plt.ylabel('Density')\n",
    "plt.legend()\n",
    "plt.show()"
   ]
  },
  {
   "cell_type": "code",
   "execution_count": null,
   "id": "a9076249-6825-4067-b09a-a36e2df8d5bd",
   "metadata": {},
   "outputs": [],
   "source": [
    "c. Calculate the Mean absolute deviation and Standard deviation and interpret the results"
   ]
  },
  {
   "cell_type": "code",
   "execution_count": 47,
   "id": "9669f0b2-72e4-4a62-9468-9fcde260a6db",
   "metadata": {},
   "outputs": [
    {
     "data": {
      "text/plain": [
       "5.7118"
      ]
     },
     "execution_count": 47,
     "metadata": {},
     "output_type": "execute_result"
    }
   ],
   "source": [
    "### Let us calculate Mean absolute deviation of both the columns\n",
    "mean_abs_dev_before = np.mean(np.abs(data[' Blood Pressure Before (mmHg)']-data[' Blood Pressure Before (mmHg)'].mean()))\n",
    "mean_abs_dev_before"
   ]
  },
  {
   "cell_type": "code",
   "execution_count": 48,
   "id": "d12ad15f-8514-4abc-8766-c432a3888129",
   "metadata": {},
   "outputs": [
    {
     "data": {
      "text/plain": [
       "5.9"
      ]
     },
     "execution_count": 48,
     "metadata": {},
     "output_type": "execute_result"
    }
   ],
   "source": [
    "mean_abs_dev_after = np.mean(np.abs(data[' Blood Pressure After (mmHg)']-data[' Blood Pressure After (mmHg)'].mean()))\n",
    "mean_abs_dev_after"
   ]
  },
  {
   "cell_type": "code",
   "execution_count": 50,
   "id": "6d172806-e910-4b22-a224-3298744d9765",
   "metadata": {},
   "outputs": [
    {
     "data": {
      "text/plain": [
       "6.598278012275075"
      ]
     },
     "execution_count": 50,
     "metadata": {},
     "output_type": "execute_result"
    }
   ],
   "source": [
    "### Let us calculate standard deviation of both the columns\n",
    "std_before = data[' Blood Pressure Before (mmHg)'].std()\n",
    "std_before"
   ]
  },
  {
   "cell_type": "code",
   "execution_count": 49,
   "id": "7808367f-734b-455e-9aeb-b4c00a915fcb",
   "metadata": {},
   "outputs": [
    {
     "data": {
      "text/plain": [
       "6.8880221025232276"
      ]
     },
     "execution_count": 49,
     "metadata": {},
     "output_type": "execute_result"
    }
   ],
   "source": [
    "std_after = data[' Blood Pressure After (mmHg)'].std()\n",
    "std_after"
   ]
  },
  {
   "cell_type": "markdown",
   "id": "6489fe3a-bf42-4f54-a293-12f9d4ccab35",
   "metadata": {},
   "source": [
    "##### From the respective values of Mean absolute deviation and Standard deviation for both the columns 'Blood Pressure Before' and 'Blood Pressure After', it can be inferred that the 'Blood Pressure After' has greater spread around mean than the 'Blood Pressure Before'"
   ]
  },
  {
   "cell_type": "code",
   "execution_count": null,
   "id": "4fe0bd95-9231-4603-9123-05a65fa24524",
   "metadata": {},
   "outputs": [],
   "source": [
    "d. Calculate the correlation coefficient and check the significance of it at 1% level of significance."
   ]
  },
  {
   "cell_type": "code",
   "execution_count": 61,
   "id": "ad3366a9-b430-4d02-894e-76b85ba13fde",
   "metadata": {},
   "outputs": [
    {
     "name": "stdout",
     "output_type": "stream",
     "text": [
      "Significant\n"
     ]
    }
   ],
   "source": [
    "from scipy.stats import pearsonr\n",
    "correlation_coefficient, p_value = pearsonr(data[' Blood Pressure Before (mmHg)'],data[' Blood Pressure After (mmHg)'])\n",
    "\n",
    "if p_value < 0.01:\n",
    "    print('Significant')\n",
    "else:\n",
    "    print('Not Significant')"
   ]
  },
  {
   "cell_type": "code",
   "execution_count": 59,
   "id": "874e2ad8-f778-45b4-b856-bc7553c8ab49",
   "metadata": {},
   "outputs": [
    {
     "data": {
      "text/plain": [
       "0.9779485966556017"
      ]
     },
     "execution_count": 59,
     "metadata": {},
     "output_type": "execute_result"
    }
   ],
   "source": [
    "correlation_coefficient"
   ]
  },
  {
   "cell_type": "code",
   "execution_count": 60,
   "id": "996b65c8-6434-4d7d-90f8-69c7217fd0b1",
   "metadata": {},
   "outputs": [
    {
     "data": {
      "text/plain": [
       "1.8097381433072956e-68"
      ]
     },
     "execution_count": 60,
     "metadata": {},
     "output_type": "execute_result"
    }
   ],
   "source": [
    "p_value"
   ]
  },
  {
   "cell_type": "markdown",
   "id": "065b964a-da4c-4d8e-86ba-b7372ec616b3",
   "metadata": {},
   "source": [
    "#### A high value of correlation coefficient (i.e either closer to 1 or -1) and a very low value of p-value indicates that there is a strong and statistically significant relationship between the two variables/columns"
   ]
  },
  {
   "cell_type": "code",
   "execution_count": null,
   "id": "51893c5c-7b46-499b-b2b4-5a167861000c",
   "metadata": {},
   "outputs": [],
   "source": []
  }
 ],
 "metadata": {
  "kernelspec": {
   "display_name": "Python 3 (ipykernel)",
   "language": "python",
   "name": "python3"
  },
  "language_info": {
   "codemirror_mode": {
    "name": "ipython",
    "version": 3
   },
   "file_extension": ".py",
   "mimetype": "text/x-python",
   "name": "python",
   "nbconvert_exporter": "python",
   "pygments_lexer": "ipython3",
   "version": "3.10.6"
  }
 },
 "nbformat": 4,
 "nbformat_minor": 5
}
