{
 "cells": [
  {
   "cell_type": "code",
   "execution_count": null,
   "id": "548e80fd-ecba-4670-bff2-e993a88c6f4b",
   "metadata": {},
   "outputs": [],
   "source": [
    "###3 Question 8"
   ]
  },
  {
   "cell_type": "code",
   "execution_count": 6,
   "id": "94f7db81-c008-4354-aa1e-e11c6250e400",
   "metadata": {},
   "outputs": [
    {
     "name": "stdout",
     "output_type": "stream",
     "text": [
      "0.001953125\n",
      "Reject the null hypothesis: => The therapy had a significant effect on anxiety level\n"
     ]
    }
   ],
   "source": [
    "import pandas as pd\n",
    "from scipy.stats import wilcoxon\n",
    "\n",
    "data=pd.DataFrame({'Participant': [1,2,3,4,5,6,7,8,9,10],\n",
    "              'Before Therapy': [10,8,12,15,6,9,11,7,14,10],\n",
    "              'After Therapy': [7,6,10,12,5,8,9,6,12,8],\n",
    "              'Difference': [-3,-2,-2,-3,-1,-1,-2,-1,-2,-2]}\n",
    "             )\n",
    "w,p_value = wilcoxon(data['Difference'])\n",
    "print(p_value)\n",
    "if p_value < 0.05:\n",
    "    print('Reject the null hypothesis: => The therapy had a significant effect on anxiety level')\n",
    "else:\n",
    "    print('Fail to reject null hypothesis: => The therapy had no effect on anxiety level')"
   ]
  },
  {
   "cell_type": "code",
   "execution_count": null,
   "id": "f5fd2dde-92e0-4f39-a133-1d89035b520c",
   "metadata": {},
   "outputs": [],
   "source": []
  },
  {
   "cell_type": "code",
   "execution_count": null,
   "id": "2db127d5-c2f8-4323-ad97-547943a9a8d6",
   "metadata": {},
   "outputs": [],
   "source": []
  }
 ],
 "metadata": {
  "kernelspec": {
   "display_name": "Python 3 (ipykernel)",
   "language": "python",
   "name": "python3"
  },
  "language_info": {
   "codemirror_mode": {
    "name": "ipython",
    "version": 3
   },
   "file_extension": ".py",
   "mimetype": "text/x-python",
   "name": "python",
   "nbconvert_exporter": "python",
   "pygments_lexer": "ipython3",
   "version": "3.10.6"
  }
 },
 "nbformat": 4,
 "nbformat_minor": 5
}
