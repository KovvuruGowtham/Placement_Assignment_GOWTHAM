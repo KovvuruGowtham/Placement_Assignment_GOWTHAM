{
 "cells": [
  {
   "cell_type": "code",
   "execution_count": null,
   "id": "96d4408b-7d39-420b-966c-dd34ded13ca9",
   "metadata": {},
   "outputs": [],
   "source": [
    "# Question 2"
   ]
  },
  {
   "cell_type": "code",
   "execution_count": 60,
   "id": "4118065a-9127-4573-9158-653145559784",
   "metadata": {},
   "outputs": [],
   "source": [
    "def func(string):\n",
    "    c={}\n",
    "    for i in string:\n",
    "        c[i]=string.count(i) ### Created a dictionary with each character in the string as a 'key' and its count in string as 'Value'\n",
    "    max_freq=max(c.values()) ### Finding the maximum and minimum value from among the frequency/count of characters in the string\n",
    "    min_freq=min(c.values())\n",
    "    \n",
    "    if max_freq==min_freq: ### If all the characters have the same frequency , it is 'valid'\n",
    "        return 'YES'\n",
    "    elif max_freq-min_freq == 1 and list(c.values()).count(max_freq)==1:\n",
    "        return 'YES'\n",
    "    elif min_freq == 1 and list(c.values()).count(min_freq)==1: \n",
    "        return 'YES'\n",
    "    \n",
    "    else:\n",
    "        return 'NO'"
   ]
  },
  {
   "cell_type": "code",
   "execution_count": 63,
   "id": "a4ea4531-b604-4c39-aa3d-8b8bf6929620",
   "metadata": {},
   "outputs": [
    {
     "data": {
      "text/plain": [
       "'NO'"
      ]
     },
     "execution_count": 63,
     "metadata": {},
     "output_type": "execute_result"
    }
   ],
   "source": [
    "### Test Case1:\n",
    "func('nappaam')"
   ]
  },
  {
   "cell_type": "code",
   "execution_count": 64,
   "id": "c539636b-66c8-48fb-a8f1-4bbdef0e9c27",
   "metadata": {},
   "outputs": [
    {
     "data": {
      "text/plain": [
       "'YES'"
      ]
     },
     "execution_count": 64,
     "metadata": {},
     "output_type": "execute_result"
    }
   ],
   "source": [
    "### Test Case2:\n",
    "func('amma')"
   ]
  },
  {
   "cell_type": "code",
   "execution_count": 65,
   "id": "f2df9f60-7f44-445c-9dff-f7fa1de71aa6",
   "metadata": {},
   "outputs": [
    {
     "data": {
      "text/plain": [
       "'YES'"
      ]
     },
     "execution_count": 65,
     "metadata": {},
     "output_type": "execute_result"
    }
   ],
   "source": [
    "### Test Case3:\n",
    "func('nanna')"
   ]
  },
  {
   "cell_type": "code",
   "execution_count": null,
   "id": "fa510338-a599-4ced-a14a-faeaa6bd4dff",
   "metadata": {},
   "outputs": [],
   "source": []
  }
 ],
 "metadata": {
  "kernelspec": {
   "display_name": "Python 3 (ipykernel)",
   "language": "python",
   "name": "python3"
  },
  "language_info": {
   "codemirror_mode": {
    "name": "ipython",
    "version": 3
   },
   "file_extension": ".py",
   "mimetype": "text/x-python",
   "name": "python",
   "nbconvert_exporter": "python",
   "pygments_lexer": "ipython3",
   "version": "3.10.6"
  }
 },
 "nbformat": 4,
 "nbformat_minor": 5
}
