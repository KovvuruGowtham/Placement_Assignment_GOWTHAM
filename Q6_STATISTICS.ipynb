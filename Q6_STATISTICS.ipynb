{
 "cells": [
  {
   "cell_type": "code",
   "execution_count": null,
   "id": "7528c2bb-e344-4b2d-9d4a-a9590d8d3856",
   "metadata": {},
   "outputs": [],
   "source": [
    "### Question 6"
   ]
  },
  {
   "cell_type": "markdown",
   "id": "28d6900f-ee55-4baa-acd3-01e3ce3f4956",
   "metadata": {},
   "source": [
    "#### When two variables are normally distributed , then the difference will also be normally distributed"
   ]
  },
  {
   "cell_type": "markdown",
   "id": "4a59296f-eb0b-483c-bc80-740d750ed31c",
   "metadata": {},
   "source": [
    "#### Let us know if the columns 'Blood Pressure Before' and 'Blood Pressure After' are normally distributed\n",
    "#### Let us perform Shapiro-Wilk Test to confirm, if these variables are normally distributed."
   ]
  },
  {
   "cell_type": "code",
   "execution_count": 7,
   "id": "2913b455-1404-494a-b563-05b316dbdcd5",
   "metadata": {},
   "outputs": [
    {
     "name": "stdout",
     "output_type": "stream",
     "text": [
      "0.002603276167064905 0.00019430516113061458\n",
      "The change in pressure do not follow a normal distribution\n"
     ]
    }
   ],
   "source": [
    "import pandas as pd\n",
    "from scipy import stats\n",
    "\n",
    "data=pd.read_csv('data.csv')\n",
    "\n",
    "w_before,p_value_before=stats.shapiro(data[' Blood Pressure Before (mmHg)'])\n",
    "w_after,p_value_after=stats.shapiro(data[' Blood Pressure After (mmHg)'])\n",
    "\n",
    "print(p_value_before,p_value_after)\n",
    "\n",
    "### If p-value < 0.05 ,we reject the null hypothesi else fail to reject null hypothesis\n",
    "### If null hypothesis is rejected, the data is not normally distributed\n",
    "if p_value_before > 0.05 and p_value_after > 0.05:\n",
    "    print('The change in pressure follows a normal distribution')\n",
    "else:\n",
    "    print('The change in pressure do not follow a normal distribution')"
   ]
  },
  {
   "cell_type": "markdown",
   "id": "569d4cd0-5b15-404c-8889-664c293fd2ac",
   "metadata": {},
   "source": [
    "#### 1. In this test, our Null-Hypothesis is that both the values in columns ' Blood Pressure Before (mmHg)' and ' Blood Pressure After (mmHg)' are normally distributed.\n",
    "\n",
    "#### 2. If p-value is greater than a significan value(0.05), we fail to reject the null hypothesis\n",
    "\n",
    "#### Here , in the problem statement ,as the p-values are not greater than 0.05 we reject the null-hypothesis. Therefore the 'Blood Pressure Before' and 'Blood Pressure After' are not normally distributed. It implies that the change in the pressure is also not normally distributed."
   ]
  },
  {
   "cell_type": "code",
   "execution_count": null,
   "id": "8cf6ebb5-a21b-43fd-ad75-9d5ea0dc4d56",
   "metadata": {},
   "outputs": [],
   "source": []
  }
 ],
 "metadata": {
  "kernelspec": {
   "display_name": "Python 3 (ipykernel)",
   "language": "python",
   "name": "python3"
  },
  "language_info": {
   "codemirror_mode": {
    "name": "ipython",
    "version": 3
   },
   "file_extension": ".py",
   "mimetype": "text/x-python",
   "name": "python",
   "nbconvert_exporter": "python",
   "pygments_lexer": "ipython3",
   "version": "3.10.6"
  }
 },
 "nbformat": 4,
 "nbformat_minor": 5
}
