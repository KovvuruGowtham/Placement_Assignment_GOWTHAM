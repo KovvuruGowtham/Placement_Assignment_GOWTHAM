{
 "cells": [
  {
   "cell_type": "code",
   "execution_count": 1,
   "id": "828b5f69-b407-47a2-9a18-a552dda3b662",
   "metadata": {},
   "outputs": [],
   "source": [
    "### Question12"
   ]
  },
  {
   "cell_type": "code",
   "execution_count": 4,
   "id": "7ab9c63f-66dc-40fa-9473-7719d189bb28",
   "metadata": {},
   "outputs": [
    {
     "name": "stdout",
     "output_type": "stream",
     "text": [
      "0.10575916705583671\n",
      "There no difference in the mean improvement scores of the two groups\n"
     ]
    }
   ],
   "source": [
    "### As per the problem statement, let us perform t-test\n",
    "import pandas as pd\n",
    "from scipy.stats import ttest_ind_from_stats as t_test\n",
    "\n",
    "### Group-A\n",
    "m1=2.5\n",
    "s1=0.8\n",
    "n1=30\n",
    "\n",
    "### Group-B\n",
    "m2=2.2\n",
    "s2=0.6\n",
    "n2=30\n",
    "\n",
    "_,p_value=t_test(m1,s1,n1,m2,s2,n1)\n",
    "print(p_value)\n",
    "\n",
    "alpha=0.05\n",
    "if p_value<alpha: ### Reject Null Hypothesis\n",
    "    print('There is a significant difference in the mean improvement scores of the two groups')\n",
    "else:             ### Fail to reject Null Hypothesis\n",
    "    print('There no difference in the mean improvement scores of the two groups')\n",
    "    "
   ]
  },
  {
   "cell_type": "code",
   "execution_count": null,
   "id": "8d39c94e-74a8-4493-9803-e59be51aa72c",
   "metadata": {},
   "outputs": [],
   "source": []
  }
 ],
 "metadata": {
  "kernelspec": {
   "display_name": "Python 3 (ipykernel)",
   "language": "python",
   "name": "python3"
  },
  "language_info": {
   "codemirror_mode": {
    "name": "ipython",
    "version": 3
   },
   "file_extension": ".py",
   "mimetype": "text/x-python",
   "name": "python",
   "nbconvert_exporter": "python",
   "pygments_lexer": "ipython3",
   "version": "3.10.6"
  }
 },
 "nbformat": 4,
 "nbformat_minor": 5
}
