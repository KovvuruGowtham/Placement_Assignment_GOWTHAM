{
 "cells": [
  {
   "cell_type": "code",
   "execution_count": null,
   "id": "6fcb3fb5-3e1b-4275-ba95-26c7a58cc434",
   "metadata": {},
   "outputs": [],
   "source": [
    "### Question5"
   ]
  },
  {
   "cell_type": "code",
   "execution_count": 1,
   "id": "b6118d39-5906-4b05-b9ba-367bb4c3a2e8",
   "metadata": {},
   "outputs": [],
   "source": [
    "import pandas as pd\n",
    "import requests"
   ]
  },
  {
   "cell_type": "code",
   "execution_count": 2,
   "id": "bf2d153f-d359-415f-8ecd-936179caabf9",
   "metadata": {},
   "outputs": [],
   "source": [
    "### For extracting data from the API links like these, we need to use get() from 'requests' module \n",
    "response=requests.get('http://api.tvmaze.com/singlesearch/shows?q=westworld&embed=episodes')"
   ]
  },
  {
   "cell_type": "code",
   "execution_count": 3,
   "id": "bbcf145f-a0de-485c-aac6-8fbadcc4d29f",
   "metadata": {},
   "outputs": [],
   "source": [
    "### As per the sample data in our problem statement,our required 'episodes' data \n",
    "### has to be accessed through the '_embedded' key and 'episodes' key\n",
    "raw_data=response.json() ## -->For observing the data , print the response.json() "
   ]
  },
  {
   "cell_type": "code",
   "execution_count": 4,
   "id": "08d7e645-5fb6-4ef4-8adf-088ab22fd355",
   "metadata": {},
   "outputs": [],
   "source": [
    "### storing the episodes data in the 'extract_data' variable\n",
    "extract_data=raw_data['_embedded']['episodes']"
   ]
  },
  {
   "cell_type": "code",
   "execution_count": 5,
   "id": "f752346d-1873-4457-b951-a4d239f74156",
   "metadata": {},
   "outputs": [],
   "source": [
    "data = pd.DataFrame(extract_data)"
   ]
  },
  {
   "cell_type": "code",
   "execution_count": 17,
   "id": "bc26417e-fb1b-45b3-a11e-9c39ae93e67f",
   "metadata": {},
   "outputs": [
    {
     "name": "stdout",
     "output_type": "stream",
     "text": [
      "<class 'pandas.core.frame.DataFrame'>\n",
      "RangeIndex: 36 entries, 0 to 35\n",
      "Data columns (total 15 columns):\n",
      " #   Column               Non-Null Count  Dtype         \n",
      "---  ------               --------------  -----         \n",
      " 0   id                   36 non-null     int64         \n",
      " 1   url                  36 non-null     object        \n",
      " 2   name                 36 non-null     object        \n",
      " 3   season               36 non-null     int64         \n",
      " 4   number               36 non-null     int64         \n",
      " 5   type                 36 non-null     object        \n",
      " 6   airdate              36 non-null     datetime64[ns]\n",
      " 7   airtime              36 non-null     object        \n",
      " 8   airstamp             36 non-null     object        \n",
      " 9   runtime              36 non-null     float64       \n",
      " 10  summary              36 non-null     object        \n",
      " 11  _links               36 non-null     object        \n",
      " 12  average_rating       36 non-null     float64       \n",
      " 13  medium_image_link    36 non-null     object        \n",
      " 14  original_image_link  36 non-null     object        \n",
      "dtypes: datetime64[ns](1), float64(2), int64(3), object(9)\n",
      "memory usage: 4.3+ KB\n"
     ]
    }
   ],
   "source": [
    "data.info()"
   ]
  },
  {
   "cell_type": "code",
   "execution_count": 7,
   "id": "23424540-c161-4227-aba7-385d37f77bbb",
   "metadata": {},
   "outputs": [],
   "source": [
    "### The values in 'airdate' column are to be converted to the datetime objects as follows: \n",
    "data['airdate']=pd.to_datetime(data['airdate'],format='%Y-%m-%d')"
   ]
  },
  {
   "cell_type": "code",
   "execution_count": 8,
   "id": "db962e9b-9ee6-4a06-8ed4-68445686d048",
   "metadata": {},
   "outputs": [],
   "source": [
    "### Converting the values of 'airtime' column from 24 format to the 12 hour format\n",
    "data['airtime']=pd.to_datetime(data['airtime'],format='%H:%M').dt.strftime('%I:%M %p')###Note:The outpout will string only"
   ]
  },
  {
   "cell_type": "code",
   "execution_count": 9,
   "id": "b0d89857-4c91-4df4-82f0-a959aa702ba0",
   "metadata": {},
   "outputs": [],
   "source": [
    "### Converting the values of 'runtime' column from 'int' to 'float'\n",
    "data['runtime']=data['runtime'].astype('float')"
   ]
  },
  {
   "cell_type": "code",
   "execution_count": 10,
   "id": "5907a480-47dc-463b-bcb7-bedb14154bba",
   "metadata": {},
   "outputs": [],
   "source": [
    "### Extracting values of 'rating' column using the 'average' key and storing it in the new column\n",
    "data['average_rating']=data['rating'].str.get('average')"
   ]
  },
  {
   "cell_type": "code",
   "execution_count": 11,
   "id": "63c1d3ee-cba9-41a2-9d37-78dd185926a5",
   "metadata": {},
   "outputs": [],
   "source": [
    "### Let us drop the rating column which is of no use now\n",
    "data = data.drop(labels=['rating'],axis=1)"
   ]
  },
  {
   "cell_type": "code",
   "execution_count": 12,
   "id": "b5fb4040-8667-42ab-a560-d11289f31be6",
   "metadata": {},
   "outputs": [],
   "source": [
    "### Replacing the html tags <p> and </p> with empty strings\n",
    "data['summary']=data['summary'].str.replace(\"<p>\",'').str.replace(\"</p>\",'')"
   ]
  },
  {
   "cell_type": "code",
   "execution_count": 13,
   "id": "eae1fffb-e590-4ee7-94fc-9f6ec2900d54",
   "metadata": {},
   "outputs": [],
   "source": [
    "### Extracting the 'medium' image link using the get() method on dictionary\n",
    "data['medium_image_link']=data['image'].str.get('medium')"
   ]
  },
  {
   "cell_type": "code",
   "execution_count": 14,
   "id": "c92c7201-4085-4b59-ae98-833695083a85",
   "metadata": {},
   "outputs": [],
   "source": [
    "### Extracting the 'original' image link using the get() method on dictionary\n",
    "data['original_image_link']=data['image'].str.get('original')"
   ]
  },
  {
   "cell_type": "code",
   "execution_count": 15,
   "id": "248c4f30-6fc3-4932-a809-6eb60d12b181",
   "metadata": {},
   "outputs": [],
   "source": [
    "### Dropping the 'image' columns as it is not required anymore\n",
    "data=data.drop(labels='image',axis=1)"
   ]
  },
  {
   "cell_type": "code",
   "execution_count": 16,
   "id": "6bc60422-9974-47ac-b914-52e50debf13f",
   "metadata": {},
   "outputs": [
    {
     "data": {
      "text/html": [
       "<div>\n",
       "<style scoped>\n",
       "    .dataframe tbody tr th:only-of-type {\n",
       "        vertical-align: middle;\n",
       "    }\n",
       "\n",
       "    .dataframe tbody tr th {\n",
       "        vertical-align: top;\n",
       "    }\n",
       "\n",
       "    .dataframe thead th {\n",
       "        text-align: right;\n",
       "    }\n",
       "</style>\n",
       "<table border=\"1\" class=\"dataframe\">\n",
       "  <thead>\n",
       "    <tr style=\"text-align: right;\">\n",
       "      <th></th>\n",
       "      <th>id</th>\n",
       "      <th>url</th>\n",
       "      <th>name</th>\n",
       "      <th>season</th>\n",
       "      <th>number</th>\n",
       "      <th>type</th>\n",
       "      <th>airdate</th>\n",
       "      <th>airtime</th>\n",
       "      <th>airstamp</th>\n",
       "      <th>runtime</th>\n",
       "      <th>summary</th>\n",
       "      <th>_links</th>\n",
       "      <th>average_rating</th>\n",
       "      <th>medium_image_link</th>\n",
       "      <th>original_image_link</th>\n",
       "    </tr>\n",
       "  </thead>\n",
       "  <tbody>\n",
       "    <tr>\n",
       "      <th>0</th>\n",
       "      <td>869671</td>\n",
       "      <td>https://www.tvmaze.com/episodes/869671/westwor...</td>\n",
       "      <td>The Original</td>\n",
       "      <td>1</td>\n",
       "      <td>1</td>\n",
       "      <td>regular</td>\n",
       "      <td>2016-10-02</td>\n",
       "      <td>09:00 PM</td>\n",
       "      <td>2016-10-03T01:00:00+00:00</td>\n",
       "      <td>68.0</td>\n",
       "      <td>A woman named Dolores is a free spirit in the ...</td>\n",
       "      <td>{'self': {'href': 'https://api.tvmaze.com/epis...</td>\n",
       "      <td>8.0</td>\n",
       "      <td>https://static.tvmaze.com/uploads/images/mediu...</td>\n",
       "      <td>https://static.tvmaze.com/uploads/images/origi...</td>\n",
       "    </tr>\n",
       "    <tr>\n",
       "      <th>1</th>\n",
       "      <td>911201</td>\n",
       "      <td>https://www.tvmaze.com/episodes/911201/westwor...</td>\n",
       "      <td>Chestnut</td>\n",
       "      <td>1</td>\n",
       "      <td>2</td>\n",
       "      <td>regular</td>\n",
       "      <td>2016-10-09</td>\n",
       "      <td>09:00 PM</td>\n",
       "      <td>2016-10-10T01:00:00+00:00</td>\n",
       "      <td>60.0</td>\n",
       "      <td>Bernard suspects that someone is sabotaging th...</td>\n",
       "      <td>{'self': {'href': 'https://api.tvmaze.com/epis...</td>\n",
       "      <td>7.7</td>\n",
       "      <td>https://static.tvmaze.com/uploads/images/mediu...</td>\n",
       "      <td>https://static.tvmaze.com/uploads/images/origi...</td>\n",
       "    </tr>\n",
       "    <tr>\n",
       "      <th>2</th>\n",
       "      <td>911204</td>\n",
       "      <td>https://www.tvmaze.com/episodes/911204/westwor...</td>\n",
       "      <td>The Stray</td>\n",
       "      <td>1</td>\n",
       "      <td>3</td>\n",
       "      <td>regular</td>\n",
       "      <td>2016-10-16</td>\n",
       "      <td>09:00 PM</td>\n",
       "      <td>2016-10-17T01:00:00+00:00</td>\n",
       "      <td>60.0</td>\n",
       "      <td>Bernard continues to investigate Dolores' supp...</td>\n",
       "      <td>{'self': {'href': 'https://api.tvmaze.com/epis...</td>\n",
       "      <td>7.6</td>\n",
       "      <td>https://static.tvmaze.com/uploads/images/mediu...</td>\n",
       "      <td>https://static.tvmaze.com/uploads/images/origi...</td>\n",
       "    </tr>\n",
       "    <tr>\n",
       "      <th>3</th>\n",
       "      <td>911205</td>\n",
       "      <td>https://www.tvmaze.com/episodes/911205/westwor...</td>\n",
       "      <td>Dissonance Theory</td>\n",
       "      <td>1</td>\n",
       "      <td>4</td>\n",
       "      <td>regular</td>\n",
       "      <td>2016-10-23</td>\n",
       "      <td>09:00 PM</td>\n",
       "      <td>2016-10-24T01:00:00+00:00</td>\n",
       "      <td>60.0</td>\n",
       "      <td>While Dolores joins William and Logan on their...</td>\n",
       "      <td>{'self': {'href': 'https://api.tvmaze.com/epis...</td>\n",
       "      <td>7.9</td>\n",
       "      <td>https://static.tvmaze.com/uploads/images/mediu...</td>\n",
       "      <td>https://static.tvmaze.com/uploads/images/origi...</td>\n",
       "    </tr>\n",
       "    <tr>\n",
       "      <th>4</th>\n",
       "      <td>927174</td>\n",
       "      <td>https://www.tvmaze.com/episodes/927174/westwor...</td>\n",
       "      <td>Contrapasso</td>\n",
       "      <td>1</td>\n",
       "      <td>5</td>\n",
       "      <td>regular</td>\n",
       "      <td>2016-10-30</td>\n",
       "      <td>09:00 PM</td>\n",
       "      <td>2016-10-31T01:00:00+00:00</td>\n",
       "      <td>60.0</td>\n",
       "      <td>Dolores takes the first step on her path of di...</td>\n",
       "      <td>{'self': {'href': 'https://api.tvmaze.com/epis...</td>\n",
       "      <td>8.0</td>\n",
       "      <td>https://static.tvmaze.com/uploads/images/mediu...</td>\n",
       "      <td>https://static.tvmaze.com/uploads/images/origi...</td>\n",
       "    </tr>\n",
       "  </tbody>\n",
       "</table>\n",
       "</div>"
      ],
      "text/plain": [
       "       id                                                url  \\\n",
       "0  869671  https://www.tvmaze.com/episodes/869671/westwor...   \n",
       "1  911201  https://www.tvmaze.com/episodes/911201/westwor...   \n",
       "2  911204  https://www.tvmaze.com/episodes/911204/westwor...   \n",
       "3  911205  https://www.tvmaze.com/episodes/911205/westwor...   \n",
       "4  927174  https://www.tvmaze.com/episodes/927174/westwor...   \n",
       "\n",
       "                name  season  number     type    airdate   airtime  \\\n",
       "0       The Original       1       1  regular 2016-10-02  09:00 PM   \n",
       "1           Chestnut       1       2  regular 2016-10-09  09:00 PM   \n",
       "2          The Stray       1       3  regular 2016-10-16  09:00 PM   \n",
       "3  Dissonance Theory       1       4  regular 2016-10-23  09:00 PM   \n",
       "4        Contrapasso       1       5  regular 2016-10-30  09:00 PM   \n",
       "\n",
       "                    airstamp  runtime  \\\n",
       "0  2016-10-03T01:00:00+00:00     68.0   \n",
       "1  2016-10-10T01:00:00+00:00     60.0   \n",
       "2  2016-10-17T01:00:00+00:00     60.0   \n",
       "3  2016-10-24T01:00:00+00:00     60.0   \n",
       "4  2016-10-31T01:00:00+00:00     60.0   \n",
       "\n",
       "                                             summary  \\\n",
       "0  A woman named Dolores is a free spirit in the ...   \n",
       "1  Bernard suspects that someone is sabotaging th...   \n",
       "2  Bernard continues to investigate Dolores' supp...   \n",
       "3  While Dolores joins William and Logan on their...   \n",
       "4  Dolores takes the first step on her path of di...   \n",
       "\n",
       "                                              _links  average_rating  \\\n",
       "0  {'self': {'href': 'https://api.tvmaze.com/epis...             8.0   \n",
       "1  {'self': {'href': 'https://api.tvmaze.com/epis...             7.7   \n",
       "2  {'self': {'href': 'https://api.tvmaze.com/epis...             7.6   \n",
       "3  {'self': {'href': 'https://api.tvmaze.com/epis...             7.9   \n",
       "4  {'self': {'href': 'https://api.tvmaze.com/epis...             8.0   \n",
       "\n",
       "                                   medium_image_link  \\\n",
       "0  https://static.tvmaze.com/uploads/images/mediu...   \n",
       "1  https://static.tvmaze.com/uploads/images/mediu...   \n",
       "2  https://static.tvmaze.com/uploads/images/mediu...   \n",
       "3  https://static.tvmaze.com/uploads/images/mediu...   \n",
       "4  https://static.tvmaze.com/uploads/images/mediu...   \n",
       "\n",
       "                                 original_image_link  \n",
       "0  https://static.tvmaze.com/uploads/images/origi...  \n",
       "1  https://static.tvmaze.com/uploads/images/origi...  \n",
       "2  https://static.tvmaze.com/uploads/images/origi...  \n",
       "3  https://static.tvmaze.com/uploads/images/origi...  \n",
       "4  https://static.tvmaze.com/uploads/images/origi...  "
      ]
     },
     "execution_count": 16,
     "metadata": {},
     "output_type": "execute_result"
    }
   ],
   "source": [
    "data.head()"
   ]
  },
  {
   "cell_type": "code",
   "execution_count": null,
   "id": "5a1390fe-6695-4e80-a6aa-332a5fcd2db3",
   "metadata": {},
   "outputs": [],
   "source": [
    "### Question 8"
   ]
  },
  {
   "cell_type": "raw",
   "id": "5d8e0e77-20fa-4d5b-b5cd-56f56cd65ccf",
   "metadata": {},
   "source": [
    "● Get all the overall ratings for each season and using plots compare the ratings for all the seasons, like season 1 ratings, season 2, and so on. "
   ]
  },
  {
   "cell_type": "code",
   "execution_count": 18,
   "id": "d5aeb9b2-f1d7-4f6e-8dc2-36459e3e9a0b",
   "metadata": {},
   "outputs": [
    {
     "data": {
      "text/plain": [
       "season\n",
       "1    8.0900\n",
       "2    8.0000\n",
       "3    7.7750\n",
       "4    7.5375\n",
       "Name: average_rating, dtype: float64"
      ]
     },
     "execution_count": 18,
     "metadata": {},
     "output_type": "execute_result"
    }
   ],
   "source": [
    "#### The overall average rating of each season is as follows\n",
    "data.groupby('season')['average_rating'].mean()"
   ]
  },
  {
   "cell_type": "code",
   "execution_count": 25,
   "id": "9b22efc9-9417-4d20-99fa-17e9ac196193",
   "metadata": {},
   "outputs": [
    {
     "data": {
      "image/png": "[encoded data removed]",
      "text/plain": [
       "<Figure size 400x400 with 1 Axes>"
      ]
     },
     "metadata": {},
     "output_type": "display_data"
    }
   ],
   "source": [
    "import seaborn as sns\n",
    "import matplotlib.pyplot as plt\n",
    "plt.figure(figsize=(4,4))\n",
    "ax=sns.barplot(x='season',y='average_rating',data=data,palette='spring')\n",
    "##To mention value on the top of each bar\n",
    "for p in ax.patches:\n",
    "    ax.text(p.get_x() + p.get_width() / 2., p.get_height(), format(p.get_height(), '.2f'),\n",
    "            ha='center', va='bottom')\n",
    "\n",
    "plt.show()\n"
   ]
  },
  {
   "cell_type": "markdown",
   "id": "e77fd0fa-2d03-427d-8ffb-d8c5a7137325",
   "metadata": {},
   "source": [
    "#### It is clear that the average rating of seasons declined gradually from season-1 to season-4"
   ]
  },
  {
   "cell_type": "code",
   "execution_count": null,
   "id": "4c8b221a-681e-4fcc-8f42-fe3028d8df51",
   "metadata": {},
   "outputs": [],
   "source": [
    "● Get all the episode names, whose average rating is more than 8 for every season"
   ]
  },
  {
   "cell_type": "code",
   "execution_count": 19,
   "id": "52bcd333-7170-4dda-acb4-a18ce35d1c5b",
   "metadata": {},
   "outputs": [
    {
     "data": {
      "text/html": [
       "<div>\n",
       "<style scoped>\n",
       "    .dataframe tbody tr th:only-of-type {\n",
       "        vertical-align: middle;\n",
       "    }\n",
       "\n",
       "    .dataframe tbody tr th {\n",
       "        vertical-align: top;\n",
       "    }\n",
       "\n",
       "    .dataframe thead th {\n",
       "        text-align: right;\n",
       "    }\n",
       "</style>\n",
       "<table border=\"1\" class=\"dataframe\">\n",
       "  <thead>\n",
       "    <tr style=\"text-align: right;\">\n",
       "      <th></th>\n",
       "      <th>name</th>\n",
       "      <th>season</th>\n",
       "      <th>average_rating</th>\n",
       "    </tr>\n",
       "  </thead>\n",
       "  <tbody>\n",
       "    <tr>\n",
       "      <th>6</th>\n",
       "      <td>Trompe L'Oeil</td>\n",
       "      <td>1</td>\n",
       "      <td>8.6</td>\n",
       "    </tr>\n",
       "    <tr>\n",
       "      <th>8</th>\n",
       "      <td>The Well-Tempered Clavier</td>\n",
       "      <td>1</td>\n",
       "      <td>8.5</td>\n",
       "    </tr>\n",
       "    <tr>\n",
       "      <th>9</th>\n",
       "      <td>The Bicameral Mind</td>\n",
       "      <td>1</td>\n",
       "      <td>8.7</td>\n",
       "    </tr>\n",
       "    <tr>\n",
       "      <th>17</th>\n",
       "      <td>Kiksuya</td>\n",
       "      <td>2</td>\n",
       "      <td>8.7</td>\n",
       "    </tr>\n",
       "    <tr>\n",
       "      <th>18</th>\n",
       "      <td>Vanishing Point</td>\n",
       "      <td>2</td>\n",
       "      <td>8.4</td>\n",
       "    </tr>\n",
       "    <tr>\n",
       "      <th>19</th>\n",
       "      <td>The Passenger</td>\n",
       "      <td>2</td>\n",
       "      <td>8.5</td>\n",
       "    </tr>\n",
       "  </tbody>\n",
       "</table>\n",
       "</div>"
      ],
      "text/plain": [
       "                         name  season  average_rating\n",
       "6               Trompe L'Oeil       1             8.6\n",
       "8   The Well-Tempered Clavier       1             8.5\n",
       "9          The Bicameral Mind       1             8.7\n",
       "17                    Kiksuya       2             8.7\n",
       "18            Vanishing Point       2             8.4\n",
       "19              The Passenger       2             8.5"
      ]
     },
     "execution_count": 19,
     "metadata": {},
     "output_type": "execute_result"
    }
   ],
   "source": [
    "data[data['average_rating']>8][['name','season','average_rating']]"
   ]
  },
  {
   "cell_type": "code",
   "execution_count": null,
   "id": "1cd7216d-1632-480a-bead-18a792c7494b",
   "metadata": {},
   "outputs": [],
   "source": [
    "● Get all the episode names that aired before May 2019"
   ]
  },
  {
   "cell_type": "code",
   "execution_count": 20,
   "id": "f85d1ce1-8c46-486c-9227-bb06aaa2887c",
   "metadata": {},
   "outputs": [
    {
     "data": {
      "text/html": [
       "<div>\n",
       "<style scoped>\n",
       "    .dataframe tbody tr th:only-of-type {\n",
       "        vertical-align: middle;\n",
       "    }\n",
       "\n",
       "    .dataframe tbody tr th {\n",
       "        vertical-align: top;\n",
       "    }\n",
       "\n",
       "    .dataframe thead th {\n",
       "        text-align: right;\n",
       "    }\n",
       "</style>\n",
       "<table border=\"1\" class=\"dataframe\">\n",
       "  <thead>\n",
       "    <tr style=\"text-align: right;\">\n",
       "      <th></th>\n",
       "      <th>name</th>\n",
       "    </tr>\n",
       "  </thead>\n",
       "  <tbody>\n",
       "    <tr>\n",
       "      <th>0</th>\n",
       "      <td>The Original</td>\n",
       "    </tr>\n",
       "    <tr>\n",
       "      <th>1</th>\n",
       "      <td>Chestnut</td>\n",
       "    </tr>\n",
       "    <tr>\n",
       "      <th>2</th>\n",
       "      <td>The Stray</td>\n",
       "    </tr>\n",
       "    <tr>\n",
       "      <th>3</th>\n",
       "      <td>Dissonance Theory</td>\n",
       "    </tr>\n",
       "    <tr>\n",
       "      <th>4</th>\n",
       "      <td>Contrapasso</td>\n",
       "    </tr>\n",
       "    <tr>\n",
       "      <th>5</th>\n",
       "      <td>The Adversary</td>\n",
       "    </tr>\n",
       "    <tr>\n",
       "      <th>6</th>\n",
       "      <td>Trompe L'Oeil</td>\n",
       "    </tr>\n",
       "    <tr>\n",
       "      <th>7</th>\n",
       "      <td>Trace Decay</td>\n",
       "    </tr>\n",
       "    <tr>\n",
       "      <th>8</th>\n",
       "      <td>The Well-Tempered Clavier</td>\n",
       "    </tr>\n",
       "    <tr>\n",
       "      <th>9</th>\n",
       "      <td>The Bicameral Mind</td>\n",
       "    </tr>\n",
       "    <tr>\n",
       "      <th>10</th>\n",
       "      <td>Journey Into Night</td>\n",
       "    </tr>\n",
       "    <tr>\n",
       "      <th>11</th>\n",
       "      <td>Reunion</td>\n",
       "    </tr>\n",
       "    <tr>\n",
       "      <th>12</th>\n",
       "      <td>Virtù e Fortuna</td>\n",
       "    </tr>\n",
       "    <tr>\n",
       "      <th>13</th>\n",
       "      <td>The Riddle of the Sphinx</td>\n",
       "    </tr>\n",
       "    <tr>\n",
       "      <th>14</th>\n",
       "      <td>Akane No Mai</td>\n",
       "    </tr>\n",
       "    <tr>\n",
       "      <th>15</th>\n",
       "      <td>Phase Space</td>\n",
       "    </tr>\n",
       "    <tr>\n",
       "      <th>16</th>\n",
       "      <td>Les Écorchés</td>\n",
       "    </tr>\n",
       "    <tr>\n",
       "      <th>17</th>\n",
       "      <td>Kiksuya</td>\n",
       "    </tr>\n",
       "    <tr>\n",
       "      <th>18</th>\n",
       "      <td>Vanishing Point</td>\n",
       "    </tr>\n",
       "    <tr>\n",
       "      <th>19</th>\n",
       "      <td>The Passenger</td>\n",
       "    </tr>\n",
       "  </tbody>\n",
       "</table>\n",
       "</div>"
      ],
      "text/plain": [
       "                         name\n",
       "0                The Original\n",
       "1                    Chestnut\n",
       "2                   The Stray\n",
       "3           Dissonance Theory\n",
       "4                 Contrapasso\n",
       "5               The Adversary\n",
       "6               Trompe L'Oeil\n",
       "7                 Trace Decay\n",
       "8   The Well-Tempered Clavier\n",
       "9          The Bicameral Mind\n",
       "10         Journey Into Night\n",
       "11                    Reunion\n",
       "12            Virtù e Fortuna\n",
       "13   The Riddle of the Sphinx\n",
       "14               Akane No Mai\n",
       "15                Phase Space\n",
       "16               Les Écorchés\n",
       "17                    Kiksuya\n",
       "18            Vanishing Point\n",
       "19              The Passenger"
      ]
     },
     "execution_count": 20,
     "metadata": {},
     "output_type": "execute_result"
    }
   ],
   "source": [
    "data[data['airdate']<'2019-05-01'][['name']]"
   ]
  },
  {
   "cell_type": "code",
   "execution_count": null,
   "id": "322203ed-6211-4cd8-88d4-2a47f4ea3ac2",
   "metadata": {},
   "outputs": [],
   "source": [
    "● Get the episode name from each season with the highest and lowest rating"
   ]
  },
  {
   "cell_type": "code",
   "execution_count": 22,
   "id": "fc4a5c60-6a6d-419a-827c-6357dcffe305",
   "metadata": {},
   "outputs": [
    {
     "data": {
      "text/html": [
       "<div>\n",
       "<style scoped>\n",
       "    .dataframe tbody tr th:only-of-type {\n",
       "        vertical-align: middle;\n",
       "    }\n",
       "\n",
       "    .dataframe tbody tr th {\n",
       "        vertical-align: top;\n",
       "    }\n",
       "\n",
       "    .dataframe thead th {\n",
       "        text-align: right;\n",
       "    }\n",
       "</style>\n",
       "<table border=\"1\" class=\"dataframe\">\n",
       "  <thead>\n",
       "    <tr style=\"text-align: right;\">\n",
       "      <th></th>\n",
       "      <th>Highest Rating</th>\n",
       "      <th>Lowest Rating</th>\n",
       "    </tr>\n",
       "  </thead>\n",
       "  <tbody>\n",
       "    <tr>\n",
       "      <th>2</th>\n",
       "      <td>NaN</td>\n",
       "      <td>The Stray</td>\n",
       "    </tr>\n",
       "    <tr>\n",
       "      <th>9</th>\n",
       "      <td>The Bicameral Mind</td>\n",
       "      <td>NaN</td>\n",
       "    </tr>\n",
       "    <tr>\n",
       "      <th>14</th>\n",
       "      <td>NaN</td>\n",
       "      <td>Akane No Mai</td>\n",
       "    </tr>\n",
       "    <tr>\n",
       "      <th>17</th>\n",
       "      <td>Kiksuya</td>\n",
       "      <td>NaN</td>\n",
       "    </tr>\n",
       "    <tr>\n",
       "      <th>20</th>\n",
       "      <td>Parce Domine</td>\n",
       "      <td>NaN</td>\n",
       "    </tr>\n",
       "    <tr>\n",
       "      <th>25</th>\n",
       "      <td>NaN</td>\n",
       "      <td>Decoherence</td>\n",
       "    </tr>\n",
       "    <tr>\n",
       "      <th>28</th>\n",
       "      <td>NaN</td>\n",
       "      <td>The Auguries</td>\n",
       "    </tr>\n",
       "    <tr>\n",
       "      <th>32</th>\n",
       "      <td>Zhuangzi</td>\n",
       "      <td>NaN</td>\n",
       "    </tr>\n",
       "  </tbody>\n",
       "</table>\n",
       "</div>"
      ],
      "text/plain": [
       "        Highest Rating Lowest Rating\n",
       "2                  NaN     The Stray\n",
       "9   The Bicameral Mind           NaN\n",
       "14                 NaN  Akane No Mai\n",
       "17             Kiksuya           NaN\n",
       "20        Parce Domine           NaN\n",
       "25                 NaN   Decoherence\n",
       "28                 NaN  The Auguries\n",
       "32            Zhuangzi           NaN"
      ]
     },
     "execution_count": 22,
     "metadata": {},
     "output_type": "execute_result"
    }
   ],
   "source": [
    "### Using groupby function the maximum and minimum average rating of each season is found and its corresponding Index is traced using\n",
    "### idxmax()\n",
    "highest_ratings_index = data.groupby('season')['average_rating'].idxmax()\n",
    "lowest_ratings_index = data.groupby('season')['average_rating'].idxmin()\n",
    "\n",
    "### These indexes and the corresponding names in 'name' column are segregated using \".loc[]\"\n",
    "highest_episodes = data.loc[highest_ratings_index, 'name']\n",
    "lowest_episodes = data.loc[lowest_ratings_index, 'name']\n",
    "\n",
    "pd.DataFrame({'Highest Rating': highest_episodes, 'Lowest Rating': lowest_episodes})\n"
   ]
  },
  {
   "cell_type": "code",
   "execution_count": null,
   "id": "b377412c-2081-4339-bcd7-56652238bb29",
   "metadata": {},
   "outputs": [],
   "source": [
    "● Get the summary for the most popular ( ratings ) episode in every season"
   ]
  },
  {
   "cell_type": "code",
   "execution_count": 96,
   "id": "3e20624d-cadd-495d-b035-64d29be1a853",
   "metadata": {},
   "outputs": [
    {
     "data": {
      "text/html": [
       "<div>\n",
       "<style scoped>\n",
       "    .dataframe tbody tr th:only-of-type {\n",
       "        vertical-align: middle;\n",
       "    }\n",
       "\n",
       "    .dataframe tbody tr th {\n",
       "        vertical-align: top;\n",
       "    }\n",
       "\n",
       "    .dataframe thead th {\n",
       "        text-align: right;\n",
       "    }\n",
       "</style>\n",
       "<table border=\"1\" class=\"dataframe\">\n",
       "  <thead>\n",
       "    <tr style=\"text-align: right;\">\n",
       "      <th></th>\n",
       "      <th>summary</th>\n",
       "    </tr>\n",
       "  </thead>\n",
       "  <tbody>\n",
       "    <tr>\n",
       "      <th>9</th>\n",
       "      <td>Delores finds out the truth about William's fa...</td>\n",
       "    </tr>\n",
       "    <tr>\n",
       "      <th>17</th>\n",
       "      <td>Another of Westworld's Host revolutionaries is...</td>\n",
       "    </tr>\n",
       "    <tr>\n",
       "      <th>20</th>\n",
       "      <td>If you're stuck in a loop, try walking in a st...</td>\n",
       "    </tr>\n",
       "    <tr>\n",
       "      <th>32</th>\n",
       "      <td>God is bored.</td>\n",
       "    </tr>\n",
       "  </tbody>\n",
       "</table>\n",
       "</div>"
      ],
      "text/plain": [
       "                                              summary\n",
       "9   Delores finds out the truth about William's fa...\n",
       "17  Another of Westworld's Host revolutionaries is...\n",
       "20  If you're stuck in a loop, try walking in a st...\n",
       "32                                      God is bored."
      ]
     },
     "execution_count": 96,
     "metadata": {},
     "output_type": "execute_result"
    }
   ],
   "source": [
    "highest_rating_indexes=data.groupby('season')['average_rating'].idxmax()\n",
    "\n",
    "episode_summary=data.loc[highest_rating_indexes,'summary']\n",
    "\n",
    "summaries = pd.DataFrame({'summary':episode_summary})"
   ]
  },
  {
   "cell_type": "code",
   "execution_count": null,
   "id": "7d85f9ec-8fcf-465c-9ee8-c9122b9f5310",
   "metadata": {},
   "outputs": [],
   "source": []
  },
  {
   "cell_type": "code",
   "execution_count": null,
   "id": "59c18828-1b08-405e-a162-7b2f5e7bcfcc",
   "metadata": {},
   "outputs": [],
   "source": []
  }
 ],
 "metadata": {
  "kernelspec": {
   "display_name": "Python 3 (ipykernel)",
   "language": "python",
   "name": "python3"
  },
  "language_info": {
   "codemirror_mode": {
    "name": "ipython",
    "version": 3
   },
   "file_extension": ".py",
   "mimetype": "text/x-python",
   "name": "python",
   "nbconvert_exporter": "python",
   "pygments_lexer": "ipython3",
   "version": "3.10.6"
  }
 },
 "nbformat": 4,
 "nbformat_minor": 5
}
