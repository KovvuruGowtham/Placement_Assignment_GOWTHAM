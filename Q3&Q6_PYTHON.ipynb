{
 "cells": [
  {
   "cell_type": "code",
   "execution_count": null,
   "id": "9c086d46-998f-40d5-b4a5-f06d24f004b9",
   "metadata": {},
   "outputs": [],
   "source": [
    "### Question 3"
   ]
  },
  {
   "cell_type": "code",
   "execution_count": 1,
   "id": "d67016ab-2df9-4f28-8b6b-a3f3a0ceab14",
   "metadata": {},
   "outputs": [],
   "source": [
    "import pandas as pd\n",
    "\n",
    "### Reading the json file from the URL provided and storing it as 'data'\n",
    "data=pd.read_json('https://raw.githubusercontent.com/Biuni/PokemonGO-Pokedex/master/pokedex.json')\n",
    "\n",
    "### Storing all rows of the only column in 'data' into 'dicts'\n",
    "dicts=data.iloc[:,0]\n",
    "\n",
    "### Using list comprehension to segregate/list all the dictionaries present in dicts\n",
    "rows_columns=[i for i in dicts]\n",
    "\n",
    "### Feeding all the list of dictionaries(keys as columns,values as records/rows)\n",
    "new_data=pd.DataFrame(rows_columns)"
   ]
  },
  {
   "cell_type": "code",
   "execution_count": 2,
   "id": "ed2765d5-85bb-4b4a-97f3-2c55b7ffa4b6",
   "metadata": {},
   "outputs": [],
   "source": [
    "### Converting the datatype of column 'num' from 'object' to 'int'\n",
    "new_data['num']=new_data['num'].astype('int')"
   ]
  },
  {
   "cell_type": "code",
   "execution_count": 3,
   "id": "4e3c7945-c6ad-4547-a65d-d3101bbd0aae",
   "metadata": {},
   "outputs": [],
   "source": [
    "### Replacing 'm' in all the rows of column 'height' with an empty string\n",
    "new_data['height']=new_data['height'].str.replace('m','')"
   ]
  },
  {
   "cell_type": "code",
   "execution_count": 4,
   "id": "7a2bdc30-9c6d-47a7-b1ac-a2b55f3ebfec",
   "metadata": {},
   "outputs": [],
   "source": [
    "### Converting the datatype of column 'height' from 'object' to 'float'\n",
    "new_data['height']=new_data['height'].astype('float')"
   ]
  },
  {
   "cell_type": "code",
   "execution_count": 5,
   "id": "9544af4f-aa3b-4b5c-995c-e19d58306aef",
   "metadata": {},
   "outputs": [],
   "source": [
    "### Renaming the column 'height' as 'height(mts): 'mts' represent units->meters\n",
    "new_data.rename(columns={'height':'height(mts)'},inplace=True)"
   ]
  },
  {
   "cell_type": "code",
   "execution_count": 6,
   "id": "9ef218b2-7f8c-4231-994d-315b3bbb2516",
   "metadata": {},
   "outputs": [],
   "source": [
    "### Replacing 'kg' in all the rows of column 'weight' with an empty string\n",
    "new_data['weight']=new_data['weight'].str.replace('kg','')\n",
    "\n",
    "### Converting the datatype of column 'weight' from 'object' to 'float'\n",
    "new_data['weight']=new_data['weight'].astype('float')\n",
    "\n",
    "### Renaming the column 'height' as 'height(mts): 'mts' represent units->meters\n",
    "new_data.rename(columns={'weight':'weight(kg)'},inplace=True)"
   ]
  },
  {
   "cell_type": "code",
   "execution_count": 7,
   "id": "4c10494f-d458-4137-95e0-d4475404f3fd",
   "metadata": {},
   "outputs": [],
   "source": [
    "### Repacing 'Not in Eggs' and 'Omanyte Candy' wherever present in the entire column 'egg' with '0 km'\n",
    "new_data['egg']=new_data['egg'].replace(['Not in Eggs','Omanyte Candy'],'0 km')"
   ]
  },
  {
   "cell_type": "code",
   "execution_count": 8,
   "id": "09b20cf1-305d-4ea7-bff5-88f08d583f53",
   "metadata": {},
   "outputs": [],
   "source": [
    "### Repacing 'km' wherever present in the entire column 'egg' with empty string\n",
    "new_data['egg']=new_data['egg'].str.replace('km','')"
   ]
  },
  {
   "cell_type": "code",
   "execution_count": 9,
   "id": "96e821ae-53ed-4baa-b63c-100ce9dd4656",
   "metadata": {},
   "outputs": [],
   "source": [
    "### Converting the datatype of column 'egg' from 'object' to 'float'\n",
    "new_data['egg']=new_data['egg'].astype('float')"
   ]
  },
  {
   "cell_type": "code",
   "execution_count": 10,
   "id": "e39cfc36-0f4a-4feb-b345-e65ed8c4c5ee",
   "metadata": {},
   "outputs": [],
   "source": [
    "### Repacing 'N/A' wherever present in the entire column 'spawn_time' with empty '00:00'\n",
    "new_data['spawn_time']=new_data['spawn_time'].str.replace('N/A','00:00')"
   ]
  },
  {
   "cell_type": "code",
   "execution_count": 11,
   "id": "19c484f3-dd71-4179-9bcc-596807ba774a",
   "metadata": {},
   "outputs": [],
   "source": [
    "### Converting the datatype from 'object' to 'datetime' and to 'minutes:seconds' format\n",
    "new_data['spawn_time']=pd.to_datetime(new_data['spawn_time'],format='%M:%S').dt.strftime('%M:%S')"
   ]
  },
  {
   "cell_type": "code",
   "execution_count": 52,
   "id": "a92f16c6-56c4-4018-910c-effad1174473",
   "metadata": {},
   "outputs": [],
   "source": [
    "### Converting the dataframe to the excel format\n",
    "new_data.to_excel('converted_to-excel.xlsx',index=False)"
   ]
  },
  {
   "cell_type": "code",
   "execution_count": 13,
   "id": "4b674dd9-45b0-469b-afcc-83c8c07ba275",
   "metadata": {},
   "outputs": [],
   "source": [
    "### Question 6:\n",
    "### Note: 'new_data' from the Question 3 is used here"
   ]
  },
  {
   "cell_type": "code",
   "execution_count": 14,
   "id": "269b6fb9-0602-44d2-b3d5-e779ebfbe80a",
   "metadata": {},
   "outputs": [
    {
     "name": "stderr",
     "output_type": "stream",
     "text": [
      "/tmp/ipykernel_78/355927914.py:4: UserWarning: \n",
      "\n",
      "`distplot` is a deprecated function and will be removed in seaborn v0.14.0.\n",
      "\n",
      "Please adapt your code to use either `displot` (a figure-level function with\n",
      "similar flexibility) or `histplot` (an axes-level function for histograms).\n",
      "\n",
      "For a guide to updating your code to use the new functions, please see\n",
      "https://gist.github.com/mwaskom/de44147ed2974457ad6372750bbe5751\n",
      "\n",
      "  sns.distplot(new_data['spawn_chance'])\n"
     ]
    },
    {
     "data": {
      "image/png": "[encoded data removed]",
      "text/plain": [
       "<Figure size 500x500 with 1 Axes>"
      ]
     },
     "metadata": {},
     "output_type": "display_data"
    }
   ],
   "source": [
    "import seaborn as sns\n",
    "import matplotlib.pyplot as plt\n",
    "plt.figure(figsize=(5,5))\n",
    "sns.distplot(new_data['spawn_chance'])\n",
    "plt.show()"
   ]
  },
  {
   "cell_type": "code",
   "execution_count": null,
   "id": "db643f11-236b-404f-a28a-98930da297ea",
   "metadata": {},
   "outputs": [],
   "source": [
    "● Get all Pokemons whose spawn rate is less than 5%"
   ]
  },
  {
   "cell_type": "code",
   "execution_count": 12,
   "id": "4cfb3e3d-42ea-438a-a53f-1dfa48abe2d0",
   "metadata": {},
   "outputs": [
    {
     "data": {
      "text/html": [
       "<div>\n",
       "<style scoped>\n",
       "    .dataframe tbody tr th:only-of-type {\n",
       "        vertical-align: middle;\n",
       "    }\n",
       "\n",
       "    .dataframe tbody tr th {\n",
       "        vertical-align: top;\n",
       "    }\n",
       "\n",
       "    .dataframe thead th {\n",
       "        text-align: right;\n",
       "    }\n",
       "</style>\n",
       "<table border=\"1\" class=\"dataframe\">\n",
       "  <thead>\n",
       "    <tr style=\"text-align: right;\">\n",
       "      <th></th>\n",
       "      <th>id</th>\n",
       "      <th>name</th>\n",
       "    </tr>\n",
       "  </thead>\n",
       "  <tbody>\n",
       "    <tr>\n",
       "      <th>1</th>\n",
       "      <td>2</td>\n",
       "      <td>Ivysaur</td>\n",
       "    </tr>\n",
       "    <tr>\n",
       "      <th>2</th>\n",
       "      <td>3</td>\n",
       "      <td>Venusaur</td>\n",
       "    </tr>\n",
       "    <tr>\n",
       "      <th>4</th>\n",
       "      <td>5</td>\n",
       "      <td>Charmeleon</td>\n",
       "    </tr>\n",
       "    <tr>\n",
       "      <th>5</th>\n",
       "      <td>6</td>\n",
       "      <td>Charizard</td>\n",
       "    </tr>\n",
       "    <tr>\n",
       "      <th>7</th>\n",
       "      <td>8</td>\n",
       "      <td>Wartortle</td>\n",
       "    </tr>\n",
       "    <tr>\n",
       "      <th>...</th>\n",
       "      <td>...</td>\n",
       "      <td>...</td>\n",
       "    </tr>\n",
       "    <tr>\n",
       "      <th>145</th>\n",
       "      <td>146</td>\n",
       "      <td>Moltres</td>\n",
       "    </tr>\n",
       "    <tr>\n",
       "      <th>147</th>\n",
       "      <td>148</td>\n",
       "      <td>Dragonair</td>\n",
       "    </tr>\n",
       "    <tr>\n",
       "      <th>148</th>\n",
       "      <td>149</td>\n",
       "      <td>Dragonite</td>\n",
       "    </tr>\n",
       "    <tr>\n",
       "      <th>149</th>\n",
       "      <td>150</td>\n",
       "      <td>Mewtwo</td>\n",
       "    </tr>\n",
       "    <tr>\n",
       "      <th>150</th>\n",
       "      <td>151</td>\n",
       "      <td>Mew</td>\n",
       "    </tr>\n",
       "  </tbody>\n",
       "</table>\n",
       "<p>65 rows × 2 columns</p>\n",
       "</div>"
      ],
      "text/plain": [
       "      id        name\n",
       "1      2     Ivysaur\n",
       "2      3    Venusaur\n",
       "4      5  Charmeleon\n",
       "5      6   Charizard\n",
       "7      8   Wartortle\n",
       "..   ...         ...\n",
       "145  146     Moltres\n",
       "147  148   Dragonair\n",
       "148  149   Dragonite\n",
       "149  150      Mewtwo\n",
       "150  151         Mew\n",
       "\n",
       "[65 rows x 2 columns]"
      ]
     },
     "execution_count": 12,
     "metadata": {},
     "output_type": "execute_result"
    }
   ],
   "source": [
    "new_data[new_data['spawn_chance']<0.05][['id','name']]"
   ]
  },
  {
   "cell_type": "code",
   "execution_count": null,
   "id": "f456b555-a89e-4b9f-9391-408e434902d3",
   "metadata": {},
   "outputs": [],
   "source": [
    "● Get all Pokemons that have less than 4 weaknesses"
   ]
  },
  {
   "cell_type": "code",
   "execution_count": 13,
   "id": "1ab284e1-9901-43a4-955e-59c43f00e99e",
   "metadata": {},
   "outputs": [
    {
     "data": {
      "text/plain": [
       "0      [Fire, Ice, Flying, Psychic]\n",
       "1      [Fire, Ice, Flying, Psychic]\n",
       "2      [Fire, Ice, Flying, Psychic]\n",
       "3             [Water, Ground, Rock]\n",
       "4             [Water, Ground, Rock]\n",
       "                   ...             \n",
       "146            [Ice, Dragon, Fairy]\n",
       "147            [Ice, Dragon, Fairy]\n",
       "148      [Ice, Rock, Dragon, Fairy]\n",
       "149              [Bug, Ghost, Dark]\n",
       "150              [Bug, Ghost, Dark]\n",
       "Name: weaknesses, Length: 151, dtype: object"
      ]
     },
     "execution_count": 13,
     "metadata": {},
     "output_type": "execute_result"
    }
   ],
   "source": [
    "new_data['weaknesses']"
   ]
  },
  {
   "cell_type": "code",
   "execution_count": 14,
   "id": "159fca7d-2d84-4cc7-b3d4-b174e0257a44",
   "metadata": {},
   "outputs": [
    {
     "data": {
      "text/html": [
       "<div>\n",
       "<style scoped>\n",
       "    .dataframe tbody tr th:only-of-type {\n",
       "        vertical-align: middle;\n",
       "    }\n",
       "\n",
       "    .dataframe tbody tr th {\n",
       "        vertical-align: top;\n",
       "    }\n",
       "\n",
       "    .dataframe thead th {\n",
       "        text-align: right;\n",
       "    }\n",
       "</style>\n",
       "<table border=\"1\" class=\"dataframe\">\n",
       "  <thead>\n",
       "    <tr style=\"text-align: right;\">\n",
       "      <th></th>\n",
       "      <th>id</th>\n",
       "      <th>name</th>\n",
       "      <th>weaknesses</th>\n",
       "    </tr>\n",
       "  </thead>\n",
       "  <tbody>\n",
       "    <tr>\n",
       "      <th>3</th>\n",
       "      <td>4</td>\n",
       "      <td>Charmander</td>\n",
       "      <td>[Water, Ground, Rock]</td>\n",
       "    </tr>\n",
       "    <tr>\n",
       "      <th>4</th>\n",
       "      <td>5</td>\n",
       "      <td>Charmeleon</td>\n",
       "      <td>[Water, Ground, Rock]</td>\n",
       "    </tr>\n",
       "    <tr>\n",
       "      <th>5</th>\n",
       "      <td>6</td>\n",
       "      <td>Charizard</td>\n",
       "      <td>[Water, Electric, Rock]</td>\n",
       "    </tr>\n",
       "    <tr>\n",
       "      <th>6</th>\n",
       "      <td>7</td>\n",
       "      <td>Squirtle</td>\n",
       "      <td>[Electric, Grass]</td>\n",
       "    </tr>\n",
       "    <tr>\n",
       "      <th>7</th>\n",
       "      <td>8</td>\n",
       "      <td>Wartortle</td>\n",
       "      <td>[Electric, Grass]</td>\n",
       "    </tr>\n",
       "    <tr>\n",
       "      <th>...</th>\n",
       "      <td>...</td>\n",
       "      <td>...</td>\n",
       "      <td>...</td>\n",
       "    </tr>\n",
       "    <tr>\n",
       "      <th>145</th>\n",
       "      <td>146</td>\n",
       "      <td>Moltres</td>\n",
       "      <td>[Water, Electric, Rock]</td>\n",
       "    </tr>\n",
       "    <tr>\n",
       "      <th>146</th>\n",
       "      <td>147</td>\n",
       "      <td>Dratini</td>\n",
       "      <td>[Ice, Dragon, Fairy]</td>\n",
       "    </tr>\n",
       "    <tr>\n",
       "      <th>147</th>\n",
       "      <td>148</td>\n",
       "      <td>Dragonair</td>\n",
       "      <td>[Ice, Dragon, Fairy]</td>\n",
       "    </tr>\n",
       "    <tr>\n",
       "      <th>149</th>\n",
       "      <td>150</td>\n",
       "      <td>Mewtwo</td>\n",
       "      <td>[Bug, Ghost, Dark]</td>\n",
       "    </tr>\n",
       "    <tr>\n",
       "      <th>150</th>\n",
       "      <td>151</td>\n",
       "      <td>Mew</td>\n",
       "      <td>[Bug, Ghost, Dark]</td>\n",
       "    </tr>\n",
       "  </tbody>\n",
       "</table>\n",
       "<p>102 rows × 3 columns</p>\n",
       "</div>"
      ],
      "text/plain": [
       "      id        name               weaknesses\n",
       "3      4  Charmander    [Water, Ground, Rock]\n",
       "4      5  Charmeleon    [Water, Ground, Rock]\n",
       "5      6   Charizard  [Water, Electric, Rock]\n",
       "6      7    Squirtle        [Electric, Grass]\n",
       "7      8   Wartortle        [Electric, Grass]\n",
       "..   ...         ...                      ...\n",
       "145  146     Moltres  [Water, Electric, Rock]\n",
       "146  147     Dratini     [Ice, Dragon, Fairy]\n",
       "147  148   Dragonair     [Ice, Dragon, Fairy]\n",
       "149  150      Mewtwo       [Bug, Ghost, Dark]\n",
       "150  151         Mew       [Bug, Ghost, Dark]\n",
       "\n",
       "[102 rows x 3 columns]"
      ]
     },
     "execution_count": 14,
     "metadata": {},
     "output_type": "execute_result"
    }
   ],
   "source": [
    "### Following are the pokemons that have less than 4 weaknesses\n",
    "new_data[new_data['weaknesses'].apply(lambda x:len(x))<4][['id','name','weaknesses']]"
   ]
  },
  {
   "cell_type": "code",
   "execution_count": 15,
   "id": "1187afab-9377-417c-8ffe-f920083a84a9",
   "metadata": {},
   "outputs": [
    {
     "data": {
      "text/plain": [
       "array(['Charmander', 'Charmeleon', 'Charizard', 'Squirtle', 'Wartortle',\n",
       "       'Blastoise', 'Caterpie', 'Metapod', 'Pidgey', 'Pidgeotto',\n",
       "       'Pidgeot', 'Rattata', 'Raticate', 'Spearow', 'Fearow', 'Ekans',\n",
       "       'Arbok', 'Pikachu', 'Raichu', 'Sandshrew', 'Sandslash',\n",
       "       'Nidoran ♀ (Female)', 'Nidorina', 'Nidoran ♂ (Male)', 'Nidorino',\n",
       "       'Clefairy', 'Clefable', 'Vulpix', 'Ninetales', 'Jigglypuff',\n",
       "       'Wigglytuff', 'Diglett', 'Dugtrio', 'Meowth', 'Persian', 'Psyduck',\n",
       "       'Golduck', 'Mankey', 'Primeape', 'Growlithe', 'Arcanine',\n",
       "       'Poliwag', 'Poliwhirl', 'Abra', 'Kadabra', 'Alakazam', 'Machop',\n",
       "       'Machoke', 'Machamp', 'Tentacool', 'Tentacruel', 'Ponyta',\n",
       "       'Rapidash', 'Magnemite', 'Magneton', \"Farfetch'd\", 'Doduo',\n",
       "       'Dodrio', 'Seel', 'Grimer', 'Muk', 'Shellder', 'Drowzee', 'Hypno',\n",
       "       'Krabby', 'Kingler', 'Voltorb', 'Electrode', 'Cubone', 'Marowak',\n",
       "       'Hitmonlee', 'Hitmonchan', 'Lickitung', 'Koffing', 'Weezing',\n",
       "       'Chansey', 'Kangaskhan', 'Horsea', 'Seadra', 'Goldeen', 'Seaking',\n",
       "       'Staryu', 'Mr. Mime', 'Electabuzz', 'Magmar', 'Pinsir', 'Tauros',\n",
       "       'Magikarp', 'Gyarados', 'Ditto', 'Eevee', 'Vaporeon', 'Jolteon',\n",
       "       'Flareon', 'Porygon', 'Snorlax', 'Zapdos', 'Moltres', 'Dratini',\n",
       "       'Dragonair', 'Mewtwo', 'Mew'], dtype=object)"
      ]
     },
     "execution_count": 15,
     "metadata": {},
     "output_type": "execute_result"
    }
   ],
   "source": [
    "#### Following is the list of 102 pokemons that have less than 4 weaknesses\n",
    "a=new_data[new_data['weaknesses'].apply(lambda x:len(x))<4][['id','name','weaknesses']]\n",
    "a['name'].unique()"
   ]
  },
  {
   "cell_type": "code",
   "execution_count": null,
   "id": "0518bfc5-3f35-4c67-b8b1-9dc5d81beec0",
   "metadata": {},
   "outputs": [],
   "source": [
    "● Get all Pokemons that have no multipliers at all"
   ]
  },
  {
   "cell_type": "code",
   "execution_count": 17,
   "id": "60fd9600-ba66-4f98-bef9-04ee4ff12906",
   "metadata": {},
   "outputs": [
    {
     "data": {
      "text/html": [
       "<div>\n",
       "<style scoped>\n",
       "    .dataframe tbody tr th:only-of-type {\n",
       "        vertical-align: middle;\n",
       "    }\n",
       "\n",
       "    .dataframe tbody tr th {\n",
       "        vertical-align: top;\n",
       "    }\n",
       "\n",
       "    .dataframe thead th {\n",
       "        text-align: right;\n",
       "    }\n",
       "</style>\n",
       "<table border=\"1\" class=\"dataframe\">\n",
       "  <thead>\n",
       "    <tr style=\"text-align: right;\">\n",
       "      <th></th>\n",
       "      <th>id</th>\n",
       "      <th>name</th>\n",
       "    </tr>\n",
       "  </thead>\n",
       "  <tbody>\n",
       "    <tr>\n",
       "      <th>2</th>\n",
       "      <td>3</td>\n",
       "      <td>Venusaur</td>\n",
       "    </tr>\n",
       "    <tr>\n",
       "      <th>5</th>\n",
       "      <td>6</td>\n",
       "      <td>Charizard</td>\n",
       "    </tr>\n",
       "    <tr>\n",
       "      <th>8</th>\n",
       "      <td>9</td>\n",
       "      <td>Blastoise</td>\n",
       "    </tr>\n",
       "    <tr>\n",
       "      <th>11</th>\n",
       "      <td>12</td>\n",
       "      <td>Butterfree</td>\n",
       "    </tr>\n",
       "    <tr>\n",
       "      <th>14</th>\n",
       "      <td>15</td>\n",
       "      <td>Beedrill</td>\n",
       "    </tr>\n",
       "    <tr>\n",
       "      <th>...</th>\n",
       "      <td>...</td>\n",
       "      <td>...</td>\n",
       "    </tr>\n",
       "    <tr>\n",
       "      <th>144</th>\n",
       "      <td>145</td>\n",
       "      <td>Zapdos</td>\n",
       "    </tr>\n",
       "    <tr>\n",
       "      <th>145</th>\n",
       "      <td>146</td>\n",
       "      <td>Moltres</td>\n",
       "    </tr>\n",
       "    <tr>\n",
       "      <th>148</th>\n",
       "      <td>149</td>\n",
       "      <td>Dragonite</td>\n",
       "    </tr>\n",
       "    <tr>\n",
       "      <th>149</th>\n",
       "      <td>150</td>\n",
       "      <td>Mewtwo</td>\n",
       "    </tr>\n",
       "    <tr>\n",
       "      <th>150</th>\n",
       "      <td>151</td>\n",
       "      <td>Mew</td>\n",
       "    </tr>\n",
       "  </tbody>\n",
       "</table>\n",
       "<p>81 rows × 2 columns</p>\n",
       "</div>"
      ],
      "text/plain": [
       "      id        name\n",
       "2      3    Venusaur\n",
       "5      6   Charizard\n",
       "8      9   Blastoise\n",
       "11    12  Butterfree\n",
       "14    15    Beedrill\n",
       "..   ...         ...\n",
       "144  145      Zapdos\n",
       "145  146     Moltres\n",
       "148  149   Dragonite\n",
       "149  150      Mewtwo\n",
       "150  151         Mew\n",
       "\n",
       "[81 rows x 2 columns]"
      ]
     },
     "execution_count": 17,
     "metadata": {},
     "output_type": "execute_result"
    }
   ],
   "source": [
    "new_data[new_data['multipliers'].isnull()][['id','name']]"
   ]
  },
  {
   "cell_type": "code",
   "execution_count": 18,
   "id": "c846c7fc-22fe-493d-b111-4fbe7d783380",
   "metadata": {},
   "outputs": [
    {
     "data": {
      "text/plain": [
       "array(['Venusaur', 'Charizard', 'Blastoise', 'Butterfree', 'Beedrill',\n",
       "       'Pidgeot', 'Raticate', 'Fearow', 'Arbok', 'Raichu', 'Sandslash',\n",
       "       'Nidoqueen', 'Nidoking', 'Clefable', 'Ninetales', 'Wigglytuff',\n",
       "       'Golbat', 'Vileplume', 'Parasect', 'Venomoth', 'Dugtrio',\n",
       "       'Persian', 'Golduck', 'Primeape', 'Arcanine', 'Poliwrath',\n",
       "       'Alakazam', 'Machamp', 'Victreebel', 'Tentacruel', 'Golem',\n",
       "       'Rapidash', 'Slowbro', 'Magneton', \"Farfetch'd\", 'Dodrio',\n",
       "       'Dewgong', 'Muk', 'Cloyster', 'Gengar', 'Onix', 'Hypno', 'Kingler',\n",
       "       'Electrode', 'Exeggutor', 'Marowak', 'Hitmonlee', 'Hitmonchan',\n",
       "       'Lickitung', 'Weezing', 'Rhydon', 'Chansey', 'Tangela',\n",
       "       'Kangaskhan', 'Seadra', 'Seaking', 'Starmie', 'Mr. Mime',\n",
       "       'Scyther', 'Jynx', 'Electabuzz', 'Magmar', 'Pinsir', 'Tauros',\n",
       "       'Gyarados', 'Lapras', 'Ditto', 'Vaporeon', 'Jolteon', 'Flareon',\n",
       "       'Porygon', 'Omastar', 'Kabutops', 'Aerodactyl', 'Snorlax',\n",
       "       'Articuno', 'Zapdos', 'Moltres', 'Dragonite', 'Mewtwo', 'Mew'],\n",
       "      dtype=object)"
      ]
     },
     "execution_count": 18,
     "metadata": {},
     "output_type": "execute_result"
    }
   ],
   "source": [
    "b=new_data[new_data['multipliers'].isnull()][['id','name']]\n",
    "b['name'].unique()"
   ]
  },
  {
   "cell_type": "markdown",
   "id": "60489c3e-98e6-4f4e-bacf-37ccfac927ea",
   "metadata": {},
   "source": [
    "#### The above is the list of 81 pokemons having no multipliers at all"
   ]
  },
  {
   "cell_type": "code",
   "execution_count": null,
   "id": "79ddd0b6-4810-46a8-b8e2-1e3360ab48ce",
   "metadata": {},
   "outputs": [],
   "source": [
    "● Get all Pokemons that do not have more than 2 evolutions"
   ]
  },
  {
   "cell_type": "code",
   "execution_count": 19,
   "id": "d53fdf3c-69c8-4d6e-b0a4-89729e98de2e",
   "metadata": {},
   "outputs": [],
   "source": [
    "#Let us fill the NaN or Null values with the empty string in order to calculate the number of \n",
    "#evolutions of a pokemon\n",
    "new_data['next_evolution']=new_data['next_evolution'].fillna('')"
   ]
  },
  {
   "cell_type": "code",
   "execution_count": 20,
   "id": "22aa02e6-f270-42d1-adef-bd924862cd89",
   "metadata": {},
   "outputs": [],
   "source": [
    "#Let us fill the NaN or Null values with the empty string in order to calculate the number of \n",
    "#evolutions of a pokemon\n",
    "new_data['prev_evolution']=new_data['prev_evolution'].fillna('')"
   ]
  },
  {
   "cell_type": "code",
   "execution_count": 21,
   "id": "3894b86e-577f-4cf0-b737-e935ed3b65a5",
   "metadata": {},
   "outputs": [
    {
     "data": {
      "text/html": [
       "<div>\n",
       "<style scoped>\n",
       "    .dataframe tbody tr th:only-of-type {\n",
       "        vertical-align: middle;\n",
       "    }\n",
       "\n",
       "    .dataframe tbody tr th {\n",
       "        vertical-align: top;\n",
       "    }\n",
       "\n",
       "    .dataframe thead th {\n",
       "        text-align: right;\n",
       "    }\n",
       "</style>\n",
       "<table border=\"1\" class=\"dataframe\">\n",
       "  <thead>\n",
       "    <tr style=\"text-align: right;\">\n",
       "      <th></th>\n",
       "      <th>id</th>\n",
       "      <th>num</th>\n",
       "      <th>name</th>\n",
       "      <th>img</th>\n",
       "      <th>type</th>\n",
       "      <th>height(mts)</th>\n",
       "      <th>weight(kg)</th>\n",
       "      <th>candy</th>\n",
       "      <th>candy_count</th>\n",
       "      <th>egg</th>\n",
       "      <th>spawn_chance</th>\n",
       "      <th>avg_spawns</th>\n",
       "      <th>spawn_time</th>\n",
       "      <th>multipliers</th>\n",
       "      <th>weaknesses</th>\n",
       "      <th>next_evolution</th>\n",
       "      <th>prev_evolution</th>\n",
       "    </tr>\n",
       "  </thead>\n",
       "  <tbody>\n",
       "    <tr>\n",
       "      <th>132</th>\n",
       "      <td>133</td>\n",
       "      <td>133</td>\n",
       "      <td>Eevee</td>\n",
       "      <td>http://www.serebii.net/pokemongo/pokemon/133.png</td>\n",
       "      <td>[Normal]</td>\n",
       "      <td>0.3</td>\n",
       "      <td>6.5</td>\n",
       "      <td>Eevee Candy</td>\n",
       "      <td>25.0</td>\n",
       "      <td>10.0</td>\n",
       "      <td>2.75</td>\n",
       "      <td>275.0</td>\n",
       "      <td>05:32</td>\n",
       "      <td>[2.02, 2.64]</td>\n",
       "      <td>[Fighting]</td>\n",
       "      <td>[{'num': '134', 'name': 'Vaporeon'}, {'num': '...</td>\n",
       "      <td></td>\n",
       "    </tr>\n",
       "  </tbody>\n",
       "</table>\n",
       "</div>"
      ],
      "text/plain": [
       "      id  num   name                                               img  \\\n",
       "132  133  133  Eevee  http://www.serebii.net/pokemongo/pokemon/133.png   \n",
       "\n",
       "         type  height(mts)  weight(kg)        candy  candy_count   egg  \\\n",
       "132  [Normal]          0.3         6.5  Eevee Candy         25.0  10.0   \n",
       "\n",
       "     spawn_chance  avg_spawns spawn_time   multipliers  weaknesses  \\\n",
       "132          2.75       275.0      05:32  [2.02, 2.64]  [Fighting]   \n",
       "\n",
       "                                        next_evolution prev_evolution  \n",
       "132  [{'num': '134', 'name': 'Vaporeon'}, {'num': '...                 "
      ]
     },
     "execution_count": 21,
     "metadata": {},
     "output_type": "execute_result"
    }
   ],
   "source": [
    "##finding the total number of evolutions(both previous and next evolutions) which have more than 2 evolutions\n",
    "new_data[(new_data['next_evolution'].apply(lambda x:len(x))+new_data['prev_evolution'].apply(lambda x:len(x)))>2]"
   ]
  },
  {
   "cell_type": "code",
   "execution_count": 22,
   "id": "e83e822b-8bf1-498d-8479-cbe09854b37e",
   "metadata": {},
   "outputs": [
    {
     "data": {
      "text/plain": [
       "[{'num': '134', 'name': 'Vaporeon'},\n",
       " {'num': '135', 'name': 'Jolteon'},\n",
       " {'num': '136', 'name': 'Flareon'}]"
      ]
     },
     "execution_count": 22,
     "metadata": {},
     "output_type": "execute_result"
    }
   ],
   "source": [
    "new_data['next_evolution'][132]"
   ]
  },
  {
   "cell_type": "markdown",
   "id": "f8378ed0-ea21-4875-9aaa-1097a77b4091",
   "metadata": {
    "tags": []
   },
   "source": [
    "#### Note that except for the pokeman named \"Eevee\", all the pokemons do not have more than 2 evolutions"
   ]
  },
  {
   "cell_type": "code",
   "execution_count": null,
   "id": "3c48e14b-176f-4533-91ce-03f9de317c5a",
   "metadata": {},
   "outputs": [],
   "source": [
    "● Get all Pokemons whose spawn time is less than 300 seconds."
   ]
  },
  {
   "cell_type": "code",
   "execution_count": 23,
   "id": "a2d9c119-e539-41b0-b7e8-f3b6c212b838",
   "metadata": {},
   "outputs": [
    {
     "data": {
      "text/html": [
       "<div>\n",
       "<style scoped>\n",
       "    .dataframe tbody tr th:only-of-type {\n",
       "        vertical-align: middle;\n",
       "    }\n",
       "\n",
       "    .dataframe tbody tr th {\n",
       "        vertical-align: top;\n",
       "    }\n",
       "\n",
       "    .dataframe thead th {\n",
       "        text-align: right;\n",
       "    }\n",
       "</style>\n",
       "<table border=\"1\" class=\"dataframe\">\n",
       "  <thead>\n",
       "    <tr style=\"text-align: right;\">\n",
       "      <th></th>\n",
       "      <th>id</th>\n",
       "      <th>name</th>\n",
       "    </tr>\n",
       "  </thead>\n",
       "  <tbody>\n",
       "    <tr>\n",
       "      <th>6</th>\n",
       "      <td>7</td>\n",
       "      <td>Squirtle</td>\n",
       "    </tr>\n",
       "    <tr>\n",
       "      <th>8</th>\n",
       "      <td>9</td>\n",
       "      <td>Blastoise</td>\n",
       "    </tr>\n",
       "    <tr>\n",
       "      <th>10</th>\n",
       "      <td>11</td>\n",
       "      <td>Metapod</td>\n",
       "    </tr>\n",
       "    <tr>\n",
       "      <th>12</th>\n",
       "      <td>13</td>\n",
       "      <td>Weedle</td>\n",
       "    </tr>\n",
       "    <tr>\n",
       "      <th>13</th>\n",
       "      <td>14</td>\n",
       "      <td>Kakuna</td>\n",
       "    </tr>\n",
       "    <tr>\n",
       "      <th>...</th>\n",
       "      <td>...</td>\n",
       "      <td>...</td>\n",
       "    </tr>\n",
       "    <tr>\n",
       "      <th>143</th>\n",
       "      <td>144</td>\n",
       "      <td>Articuno</td>\n",
       "    </tr>\n",
       "    <tr>\n",
       "      <th>144</th>\n",
       "      <td>145</td>\n",
       "      <td>Zapdos</td>\n",
       "    </tr>\n",
       "    <tr>\n",
       "      <th>145</th>\n",
       "      <td>146</td>\n",
       "      <td>Moltres</td>\n",
       "    </tr>\n",
       "    <tr>\n",
       "      <th>149</th>\n",
       "      <td>150</td>\n",
       "      <td>Mewtwo</td>\n",
       "    </tr>\n",
       "    <tr>\n",
       "      <th>150</th>\n",
       "      <td>151</td>\n",
       "      <td>Mew</td>\n",
       "    </tr>\n",
       "  </tbody>\n",
       "</table>\n",
       "<p>81 rows × 2 columns</p>\n",
       "</div>"
      ],
      "text/plain": [
       "      id       name\n",
       "6      7   Squirtle\n",
       "8      9  Blastoise\n",
       "10    11    Metapod\n",
       "12    13     Weedle\n",
       "13    14     Kakuna\n",
       "..   ...        ...\n",
       "143  144   Articuno\n",
       "144  145     Zapdos\n",
       "145  146    Moltres\n",
       "149  150     Mewtwo\n",
       "150  151        Mew\n",
       "\n",
       "[81 rows x 2 columns]"
      ]
     },
     "execution_count": 23,
     "metadata": {},
     "output_type": "execute_result"
    }
   ],
   "source": [
    "##Extracting the spawn time in seconds for each pokemon and comapring with 300 seconds \n",
    "new_data[new_data['spawn_time'].apply(lambda x:int(x.split(':')[0])*60 + int(x.split(':')[1]))<300][['id','name']]"
   ]
  },
  {
   "cell_type": "code",
   "execution_count": 24,
   "id": "5e7eedc0-a1c9-4fd4-bfde-f1c295562ae0",
   "metadata": {},
   "outputs": [
    {
     "data": {
      "text/plain": [
       "array(['Squirtle', 'Blastoise', 'Metapod', 'Weedle', 'Kakuna', 'Beedrill',\n",
       "       'Pidgey', 'Pidgeotto', 'Pidgeot', 'Rattata', 'Raticate', 'Fearow',\n",
       "       'Arbok', 'Pikachu', 'Sandshrew', 'Nidoran ♀ (Female)',\n",
       "       'Nidoran ♂ (Male)', 'Clefairy', 'Clefable', 'Ninetales', 'Golbat',\n",
       "       'Oddish', 'Paras', 'Parasect', 'Venonat', 'Diglett', 'Meowth',\n",
       "       'Persian', 'Psyduck', 'Growlithe', 'Arcanine', 'Poliwag',\n",
       "       'Poliwrath', 'Abra', 'Machop', 'Machamp', 'Bellsprout',\n",
       "       'Tentacool', 'Graveler', 'Ponyta', 'Rapidash', 'Slowbro',\n",
       "       'Magnemite', \"Farfetch'd\", 'Dodrio', 'Muk', 'Cloyster', 'Gastly',\n",
       "       'Haunter', 'Gengar', 'Onix', 'Drowzee', 'Hypno', 'Krabby',\n",
       "       'Kingler', 'Voltorb', 'Electrode', 'Cubone', 'Marowak',\n",
       "       'Hitmonlee', 'Lickitung', 'Rhyhorn', 'Chansey', 'Kangaskhan',\n",
       "       'Horsea', 'Seadra', 'Goldeen', 'Mr. Mime', 'Electabuzz', 'Pinsir',\n",
       "       'Tauros', 'Gyarados', 'Ditto', 'Jolteon', 'Porygon', 'Kabuto',\n",
       "       'Articuno', 'Zapdos', 'Moltres', 'Mewtwo', 'Mew'], dtype=object)"
      ]
     },
     "execution_count": 24,
     "metadata": {},
     "output_type": "execute_result"
    }
   ],
   "source": [
    "c=new_data[new_data['spawn_time'].apply(lambda x:int(x.split(':')[0])*60 + int(x.split(':')[1]))<300][['id','name']]\n",
    "c['name'].unique()"
   ]
  },
  {
   "cell_type": "markdown",
   "id": "13123d4f-bd21-4723-8995-cc5fdc7c8939",
   "metadata": {},
   "source": [
    "#### The above is the list of 81 pokemons having spawn time lessthan 300 seconds"
   ]
  },
  {
   "cell_type": "code",
   "execution_count": null,
   "id": "14f04916-5722-4fdc-9cb0-34ec097606f4",
   "metadata": {},
   "outputs": [],
   "source": [
    "● Get all Pokemon who have more than two types of capabilities"
   ]
  },
  {
   "cell_type": "code",
   "execution_count": 67,
   "id": "952fe68d-c77c-4ed1-8f5f-a62d3137bdfd",
   "metadata": {},
   "outputs": [
    {
     "data": {
      "text/plain": [
       "(0, 17)"
      ]
     },
     "execution_count": 67,
     "metadata": {},
     "output_type": "execute_result"
    }
   ],
   "source": [
    "new_data[new_data['type'].apply(lambda x:len(x))>2].shape"
   ]
  },
  {
   "cell_type": "markdown",
   "id": "b572234d-5bcc-4caf-863a-10ed2bb37b2e",
   "metadata": {},
   "source": [
    "#### There are no pokemons having more than two types of capabilties"
   ]
  },
  {
   "cell_type": "code",
   "execution_count": null,
   "id": "63323f02-5b8e-4f3b-a46e-36b25e7fff03",
   "metadata": {},
   "outputs": [],
   "source": []
  }
 ],
 "metadata": {
  "kernelspec": {
   "display_name": "Python 3 (ipykernel)",
   "language": "python",
   "name": "python3"
  },
  "language_info": {
   "codemirror_mode": {
    "name": "ipython",
    "version": 3
   },
   "file_extension": ".py",
   "mimetype": "text/x-python",
   "name": "python",
   "nbconvert_exporter": "python",
   "pygments_lexer": "ipython3",
   "version": "3.10.6"
  }
 },
 "nbformat": 4,
 "nbformat_minor": 5
}
