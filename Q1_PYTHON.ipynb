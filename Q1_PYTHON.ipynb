{
 "cells": [
  {
   "cell_type": "code",
   "execution_count": 32,
   "id": "8c9ce754-fa9e-4595-acbb-338223b71bba",
   "metadata": {},
   "outputs": [],
   "source": [
    "## Question 1 "
   ]
  },
  {
   "cell_type": "code",
   "execution_count": 43,
   "id": "3c80aa48-7599-48a9-bfc3-4f3a9a7d33c3",
   "metadata": {},
   "outputs": [
    {
     "name": "stdin",
     "output_type": "stream",
     "text": [
      "Enter a text message:  hi hello hi ra\n"
     ]
    },
    {
     "name": "stdout",
     "output_type": "stream",
     "text": [
      "Most frequent word is: hi ( 2 times ) \n",
      "Length of the most frequent word is :  2\n"
     ]
    }
   ],
   "source": [
    "def fun(text):\n",
    "    words_list = text.split()\n",
    "    freq={}\n",
    "    for word in words_list:\n",
    "        freq[word]=freq.get(word,0)+1 \n",
    "    max_freq = max(freq.values())\n",
    "    max_freq_word = [word for word,frequency in freq.items() if frequency==max_freq]\n",
    "    \n",
    "    if len(max_freq_word) > 1:\n",
    "        for i in max_freq_word:\n",
    "            print(\"Most frequent word is:\",i,'(',max_freq,'times',')',\"\\nLength of the most frequent word is : \",len(i))\n",
    "    else:\n",
    "        print(\"Most frequent word is:\",max_freq_word[0],'(',max_freq,'times',')',\"\\nLength of the most frequent word is : \",len(max_freq_word[0]))\n",
    "    \n",
    "    \n",
    "\n",
    "a=input(\"Enter a text message: \")\n",
    "b=fun(a)\n"
   ]
  },
  {
   "cell_type": "markdown",
   "id": "4277bd7d-26d3-4f55-8d65-f789d1eca12d",
   "metadata": {},
   "source": [
    "Test case 1:"
   ]
  },
  {
   "cell_type": "code",
   "execution_count": 44,
   "id": "141d1442-1113-4ba2-aa64-575917a768a7",
   "metadata": {},
   "outputs": [
    {
     "name": "stdin",
     "output_type": "stream",
     "text": [
      "Enter a text message:  ram sita sita ram ram sita\n"
     ]
    },
    {
     "name": "stdout",
     "output_type": "stream",
     "text": [
      "Most frequent word is: ram ( 3 times ) \n",
      "Length of the most frequent word is :  3\n",
      "Most frequent word is: sita ( 3 times ) \n",
      "Length of the most frequent word is :  4\n"
     ]
    }
   ],
   "source": [
    "a=input(\"Enter a text message: \")\n",
    "b=fun(a)"
   ]
  },
  {
   "cell_type": "markdown",
   "id": "73ecff16-63f2-470d-88bb-4663216b2803",
   "metadata": {},
   "source": [
    "Test case 2:"
   ]
  },
  {
   "cell_type": "code",
   "execution_count": 47,
   "id": "6bcde42c-b307-4745-8d84-ec4de004d89b",
   "metadata": {},
   "outputs": [
    {
     "name": "stdin",
     "output_type": "stream",
     "text": [
      "Enter a text message:  hi hello hi hero hello hero hi hello hero\n"
     ]
    },
    {
     "name": "stdout",
     "output_type": "stream",
     "text": [
      "Most frequent word is: hi ( 3 times ) \n",
      "Length of the most frequent word is :  2\n",
      "Most frequent word is: hello ( 3 times ) \n",
      "Length of the most frequent word is :  5\n",
      "Most frequent word is: hero ( 3 times ) \n",
      "Length of the most frequent word is :  4\n"
     ]
    }
   ],
   "source": [
    "a=input(\"Enter a text message: \")\n",
    "b=fun(a)"
   ]
  },
  {
   "cell_type": "code",
   "execution_count": null,
   "id": "16ed50c0-2334-47df-97d0-26fd1e0b0d72",
   "metadata": {},
   "outputs": [],
   "source": []
  },
  {
   "cell_type": "code",
   "execution_count": null,
   "id": "3f5d0e27-8384-41dc-bcc9-80b9382c69f5",
   "metadata": {},
   "outputs": [],
   "source": []
  }
 ],
 "metadata": {
  "kernelspec": {
   "display_name": "Python 3 (ipykernel)",
   "language": "python",
   "name": "python3"
  },
  "language_info": {
   "codemirror_mode": {
    "name": "ipython",
    "version": 3
   },
   "file_extension": ".py",
   "mimetype": "text/x-python",
   "name": "python",
   "nbconvert_exporter": "python",
   "pygments_lexer": "ipython3",
   "version": "3.10.6"
  }
 },
 "nbformat": 4,
 "nbformat_minor": 5
}
