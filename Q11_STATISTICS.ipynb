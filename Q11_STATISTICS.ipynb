{
 "cells": [
  {
   "cell_type": "code",
   "execution_count": 1,
   "id": "62441495-df1f-44ff-9e8c-f2d908a28204",
   "metadata": {},
   "outputs": [],
   "source": [
    "### Question 11"
   ]
  },
  {
   "cell_type": "code",
   "execution_count": null,
   "id": "5bc33052-3cde-4fe1-a23f-36921ac0fc95",
   "metadata": {},
   "outputs": [],
   "source": [
    "a. Check whether the distribution of all the classes are the same or not."
   ]
  },
  {
   "cell_type": "code",
   "execution_count": 7,
   "id": "f17142bf-d582-41dd-bdbc-915bca47471b",
   "metadata": {},
   "outputs": [],
   "source": [
    "### Null hypothesis: The classes have the same disribution\n",
    "### Alternate hypothesis: The classes do not have the same distribution"
   ]
  },
  {
   "cell_type": "code",
   "execution_count": 1,
   "id": "5af153fe-b045-4746-83c9-587d6d21ef95",
   "metadata": {},
   "outputs": [
    {
     "name": "stdout",
     "output_type": "stream",
     "text": [
      "3.751914289152195e-06\n",
      "Reject the null hypothesis Therefore,the classes have different distributions\n"
     ]
    }
   ],
   "source": [
    "### Let us perform the Kolmogorov-Smirnov  test to know if the distribution of two or more groups/classes is same or not\n",
    "import pandas as pd\n",
    "from scipy.stats import ks_2samp\n",
    "data=pd.read_csv('data.csv')\n",
    "_,p_value=ks_2samp(data[' Blood Pressure Before (mmHg)'],data[' Blood Pressure After (mmHg)'])\n",
    "print(p_value)\n",
    "if p_value<0.05:\n",
    "    print('Reject the null hypothesis','Therefore,the classes have different distributions')\n",
    "else:\n",
    "    print('Fail to reject null hypothesis','Therefore, the classes have same distribution')"
   ]
  },
  {
   "cell_type": "code",
   "execution_count": null,
   "id": "a7de3b91-0c59-4d59-96c3-ae6cd1f8ba69",
   "metadata": {},
   "outputs": [],
   "source": [
    "b. Check for the equality of variance"
   ]
  },
  {
   "cell_type": "code",
   "execution_count": 7,
   "id": "cfb10c93-5bf9-4c9a-9c96-9622a88f9091",
   "metadata": {},
   "outputs": [
    {
     "name": "stdout",
     "output_type": "stream",
     "text": [
      "0.6715080090945376\n",
      "the variances are equal\n"
     ]
    }
   ],
   "source": [
    "### Let us perform levene test for the equality of variance\n",
    "### Null Hypothesis:The variances are equal\n",
    "### Alternate hypothesis: The variances are not eaqual\n",
    "import pandas as pd\n",
    "from scipy.stats import levene\n",
    "_,p_value=levene(data[' Blood Pressure Before (mmHg)'],data[' Blood Pressure After (mmHg)'])\n",
    "print(p_value)\n",
    "if p_value<0.05: ### reject null hypothesis\n",
    "    print('The variances are not equal')\n",
    "else:            ### fail to reject null hypothesis\n",
    "    print('the variances are equal')"
   ]
  },
  {
   "cell_type": "code",
   "execution_count": null,
   "id": "56bda10b-a6a0-4d4c-8b5d-335ec2f284b5",
   "metadata": {},
   "outputs": [],
   "source": [
    "c. Which amount LDA and QDA would perform better on this data for classification and why."
   ]
  },
  {
   "cell_type": "raw",
   "id": "98184fa4-7a9c-434f-9d2f-068b58625eda",
   "metadata": {},
   "source": [
    "LDA and QDA both assume that the predictors in each class follow a normal distribution. As per the Kolmogorov-Smirnov test , the classes have different distributions. As a result, the assumptions that are used in LDA and QDA may not be valid in this case.In this scenario , it is better to prefer other methods for classification."
   ]
  },
  {
   "cell_type": "code",
   "execution_count": null,
   "id": "4e843ff9-3bd5-40ab-97e6-5c8f4f1c242a",
   "metadata": {},
   "outputs": [],
   "source": [
    "d. Check the equality of mean for between all the classes."
   ]
  },
  {
   "cell_type": "code",
   "execution_count": 8,
   "id": "1d65cb32-a9b2-4bb4-9b0d-8f6e8bf1146d",
   "metadata": {},
   "outputs": [
    {
     "name": "stdout",
     "output_type": "stream",
     "text": [
      "2.3565868442707578e-08\n",
      "The means are not equal\n"
     ]
    }
   ],
   "source": [
    "### Let us perform ANOVA-test for the equality of means\n",
    "### Null Hypothesis: means of the two classes are equal\n",
    "### Alternate Hypothesis: means of the two classes are not equal\n",
    "from scipy.stats import f_oneway\n",
    "_,p_value=f_oneway(data[' Blood Pressure Before (mmHg)'],data[' Blood Pressure After (mmHg)'])\n",
    "print(p_value)\n",
    "if p_value<0.05:  ### Reject the null hypothesis\n",
    "    print('The means are not equal')\n",
    "else:             ### Fail to reject the null hypothesis\n",
    "    print('The means are equal')"
   ]
  },
  {
   "cell_type": "code",
   "execution_count": null,
   "id": "daa0f1fa-3509-483c-b948-1f70eb4eec62",
   "metadata": {},
   "outputs": [],
   "source": []
  }
 ],
 "metadata": {
  "kernelspec": {
   "display_name": "Python 3 (ipykernel)",
   "language": "python",
   "name": "python3"
  },
  "language_info": {
   "codemirror_mode": {
    "name": "ipython",
    "version": 3
   },
   "file_extension": ".py",
   "mimetype": "text/x-python",
   "name": "python",
   "nbconvert_exporter": "python",
   "pygments_lexer": "ipython3",
   "version": "3.10.6"
  }
 },
 "nbformat": 4,
 "nbformat_minor": 5
}
