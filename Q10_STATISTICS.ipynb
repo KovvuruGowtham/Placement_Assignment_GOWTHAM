{
 "cells": [
  {
   "cell_type": "code",
   "execution_count": 1,
   "id": "ec89e7b6-dbe1-4780-8390-d232f9db1d16",
   "metadata": {},
   "outputs": [],
   "source": [
    "### Question 10:"
   ]
  },
  {
   "cell_type": "code",
   "execution_count": null,
   "id": "8ac304cd-80fb-4c99-b24e-82edc14b5c79",
   "metadata": {},
   "outputs": [],
   "source": [
    "a. What is the probability that exactly 20 bulbs are defective?"
   ]
  },
  {
   "cell_type": "code",
   "execution_count": 7,
   "id": "3d641906-aa63-42ed-a367-b9451831cfa2",
   "metadata": {},
   "outputs": [
    {
     "name": "stdout",
     "output_type": "stream",
     "text": [
      "The probability that exactly 20 bulbs are defective is: 5.161619253663996 %\n"
     ]
    }
   ],
   "source": [
    "### Let us use probabiltiy distribution for solving the problem\n",
    "import math\n",
    "n = 500\n",
    "p = 0.05\n",
    "k = 20\n",
    "prob_defect_20 = math.comb(n,k)*(p**k)*((1-p)**(n-k))  \n",
    "print('The probability that exactly 20 bulbs are defective is:',prob_defect_20*100,'%')"
   ]
  },
  {
   "cell_type": "markdown",
   "id": "32b02a67-2483-4e51-8a7d-e1e0876f8616",
   "metadata": {},
   "source": [
    "b. What is the probability that at least 10 bulbs are defective?"
   ]
  },
  {
   "cell_type": "code",
   "execution_count": 9,
   "id": "2f7578cb-8a11-42e7-8b32-4d0ea81734ab",
   "metadata": {},
   "outputs": [
    {
     "name": "stdout",
     "output_type": "stream",
     "text": [
      "The probability that atleast 10 bulbs are defective is: 99.98316463654902 %\n"
     ]
    }
   ],
   "source": [
    "\n",
    "n=500\n",
    "k=9\n",
    "p=0.05\n",
    "prob_defect=0\n",
    "for i in range(k+1):\n",
    "    prob_defect=prob_defect+math.comb(n,i)*(p**i)*((1-p)**(n-i))\n",
    "prob_defect_10=1-prob_defect ###Subtracting the total probability of defective bulbs ranging from 1 to 10\n",
    "print('The probability that atleast 10 bulbs are defective is:',prob_defect_10*100,'%')"
   ]
  },
  {
   "cell_type": "code",
   "execution_count": null,
   "id": "94b043e4-1f96-4573-a4a4-0e9095f3e3e5",
   "metadata": {},
   "outputs": [],
   "source": [
    "c. What is the probability that at max 15 bulbs are defective?"
   ]
  },
  {
   "cell_type": "code",
   "execution_count": 10,
   "id": "69fb06ce-93ce-4dc9-acc4-687a68cbe751",
   "metadata": {},
   "outputs": [
    {
     "name": "stdout",
     "output_type": "stream",
     "text": [
      "The probability that atleast 10 bulbs are defective is: 1.9858377163006222 %\n"
     ]
    }
   ],
   "source": [
    "n=500\n",
    "k=15\n",
    "p=0.05\n",
    "prob_defect_15=0\n",
    "for i in range(k+1):\n",
    "    prob_defect_15=prob_defect_15+math.comb(n,i)*(p**i)*((1-p)**(n-i))\n",
    "print('The probability that at max 15 bulbs are defective is:',prob_defect_15*100,'%')"
   ]
  },
  {
   "cell_type": "markdown",
   "id": "dfffcdd5-15ba-4325-ae6c-17233fc49871",
   "metadata": {},
   "source": [
    "d. On average, how many defective bulbs would you expect in a batch of 500?"
   ]
  },
  {
   "cell_type": "code",
   "execution_count": 14,
   "id": "ad9991f8-df77-4bb3-9fd7-bf3e60962894",
   "metadata": {},
   "outputs": [
    {
     "name": "stdout",
     "output_type": "stream",
     "text": [
      "On average 25.0 number of defective bulbs can be expected in a batch of 500\n"
     ]
    }
   ],
   "source": [
    "n=500\n",
    "p=0.05\n",
    "print('On average',n*p,'number of defective bulbs can be expected in a batch of 500')"
   ]
  },
  {
   "cell_type": "code",
   "execution_count": null,
   "id": "19887a13-2cb2-41fb-80f5-83b031c8083b",
   "metadata": {},
   "outputs": [],
   "source": []
  }
 ],
 "metadata": {
  "kernelspec": {
   "display_name": "Python 3 (ipykernel)",
   "language": "python",
   "name": "python3"
  },
  "language_info": {
   "codemirror_mode": {
    "name": "ipython",
    "version": 3
   },
   "file_extension": ".py",
   "mimetype": "text/x-python",
   "name": "python",
   "nbconvert_exporter": "python",
   "pygments_lexer": "ipython3",
   "version": "3.10.6"
  }
 },
 "nbformat": 4,
 "nbformat_minor": 5
}
