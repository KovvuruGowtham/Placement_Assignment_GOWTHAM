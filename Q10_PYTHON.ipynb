{
 "cells": [
  {
   "cell_type": "code",
   "execution_count": null,
   "id": "ab84a8a5-de93-4822-bca9-09a2bf3f12f4",
   "metadata": {},
   "outputs": [],
   "source": [
    "### Question 10"
   ]
  },
  {
   "cell_type": "code",
   "execution_count": 2,
   "id": "691768f4-996a-4409-bea1-237f8187650b",
   "metadata": {},
   "outputs": [
    {
     "name": "stdout",
     "output_type": "stream",
     "text": [
      "Collecting nltk\n",
      "  Downloading nltk-3.8.1-py3-none-any.whl (1.5 MB)\n",
      "\u001b[2K     \u001b[90m━━━━━━━━━━━━━━━━━━━━━━━━━━━━━━━━━━━━━━━━\u001b[0m \u001b[32m1.5/1.5 MB\u001b[0m \u001b[31m46.3 MB/s\u001b[0m eta \u001b[36m0:00:00\u001b[0m\n",
      "\u001b[?25hCollecting regex>=2021.8.3\n",
      "  Downloading regex-2023.5.5-cp310-cp310-manylinux_2_17_x86_64.manylinux2014_x86_64.whl (769 kB)\n",
      "\u001b[2K     \u001b[90m━━━━━━━━━━━━━━━━━━━━━━━━━━━━━━━━━━━━━━\u001b[0m \u001b[32m769.7/769.7 kB\u001b[0m \u001b[31m59.6 MB/s\u001b[0m eta \u001b[36m0:00:00\u001b[0m\n",
      "\u001b[?25hRequirement already satisfied: tqdm in /opt/conda/lib/python3.10/site-packages (from nltk) (4.64.1)\n",
      "Requirement already satisfied: joblib in /opt/conda/lib/python3.10/site-packages (from nltk) (1.2.0)\n",
      "Requirement already satisfied: click in /opt/conda/lib/python3.10/site-packages (from nltk) (8.1.3)\n",
      "Installing collected packages: regex, nltk\n",
      "Successfully installed nltk-3.8.1 regex-2023.5.5\n",
      "Note: you may need to restart the kernel to use updated packages.\n"
     ]
    }
   ],
   "source": [
    "pip install nltk ### Installing 'Natural Language ToolKit' library"
   ]
  },
  {
   "cell_type": "code",
   "execution_count": 4,
   "id": "d3c2e796-486f-459e-8239-bc865ae40db6",
   "metadata": {},
   "outputs": [
    {
     "name": "stderr",
     "output_type": "stream",
     "text": [
      "[nltk_data] Downloading package punkt to /home/jovyan/nltk_data...\n",
      "[nltk_data]   Unzipping tokenizers/punkt.zip.\n",
      "[nltk_data] Downloading package averaged_perceptron_tagger to\n",
      "[nltk_data]     /home/jovyan/nltk_data...\n",
      "[nltk_data]   Unzipping taggers/averaged_perceptron_tagger.zip.\n"
     ]
    },
    {
     "data": {
      "text/plain": [
       "True"
      ]
     },
     "execution_count": 4,
     "metadata": {},
     "output_type": "execute_result"
    }
   ],
   "source": [
    "import nltk\n",
    "nltk.download('punkt')\n",
    "nltk.download('averaged_perceptron_tagger')\n"
   ]
  },
  {
   "cell_type": "code",
   "execution_count": 20,
   "id": "006d94cc-355b-452b-a1e9-a8eeac7a3706",
   "metadata": {},
   "outputs": [
    {
     "data": {
      "text/plain": [
       "{'Noun': 1, 'Verb': 1, 'Pronoun': 1, 'Adjective': 1}"
      ]
     },
     "execution_count": 20,
     "metadata": {},
     "output_type": "execute_result"
    }
   ],
   "source": [
    "import nltk\n",
    "from nltk.tokenize import word_tokenize\n",
    "from nltk.tag import pos_tag\n",
    "\n",
    "def count_pos(para):\n",
    "    words = word_tokenize(para)  ## Tokenizing the paragraph/phrase into words\n",
    "    tagged_words = pos_tag(words)     ## Performing the part-of-speech tagging on the words\n",
    "    \n",
    "    # Initializing counts for each POS tag\n",
    "    counts = {\n",
    "        'Noun': 0,\n",
    "        'Verb': 0,\n",
    "        'Pronoun': 0,\n",
    "        'Adjective': 0\n",
    "    }\n",
    "    \n",
    "    # Count the number of occurrences for each POS tag\n",
    "    for word, tag in tagged_words:\n",
    "        if tag.startswith('N'):  # Noun\n",
    "            counts['Noun'] += 1\n",
    "        elif tag.startswith('V'):  # Verb\n",
    "            counts['Verb'] += 1\n",
    "        elif tag.startswith('PRP'):  # Pronoun\n",
    "            counts['Pronoun'] += 1\n",
    "        elif tag.startswith('JJ'):  # Adjective\n",
    "            counts['Adjective'] += 1\n",
    "    \n",
    "    return counts\n",
    "\n",
    "\n",
    "para = \"My name is ravi\"\n",
    "count_pos(para)"
   ]
  },
  {
   "cell_type": "code",
   "execution_count": 22,
   "id": "27126d64-02df-435b-94d7-07bed763ac54",
   "metadata": {},
   "outputs": [
    {
     "data": {
      "text/plain": [
       "{'Noun': 0, 'Verb': 2, 'Pronoun': 1, 'Adjective': 0}"
      ]
     },
     "execution_count": 22,
     "metadata": {},
     "output_type": "execute_result"
    }
   ],
   "source": [
    "# Test Case1\n",
    "count_pos('he is going')"
   ]
  },
  {
   "cell_type": "code",
   "execution_count": 27,
   "id": "625d03b6-07d0-4ded-ad5f-866a73274e25",
   "metadata": {},
   "outputs": [
    {
     "data": {
      "text/plain": [
       "{'Noun': 1, 'Verb': 2, 'Pronoun': 0, 'Adjective': 0}"
      ]
     },
     "execution_count": 27,
     "metadata": {},
     "output_type": "execute_result"
    }
   ],
   "source": [
    "# Test Case2\n",
    "count_pos('Raju has played well')"
   ]
  },
  {
   "cell_type": "code",
   "execution_count": null,
   "id": "ae4daa8b-d3da-41c7-a94f-fcd924c1f442",
   "metadata": {},
   "outputs": [],
   "source": []
  }
 ],
 "metadata": {
  "kernelspec": {
   "display_name": "Python 3 (ipykernel)",
   "language": "python",
   "name": "python3"
  },
  "language_info": {
   "codemirror_mode": {
    "name": "ipython",
    "version": 3
   },
   "file_extension": ".py",
   "mimetype": "text/x-python",
   "name": "python",
   "nbconvert_exporter": "python",
   "pygments_lexer": "ipython3",
   "version": "3.10.6"
  }
 },
 "nbformat": 4,
 "nbformat_minor": 5
}
