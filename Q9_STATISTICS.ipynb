{
 "cells": [
  {
   "cell_type": "code",
   "execution_count": null,
   "id": "c8adcc63-c738-4f87-b689-5524e634e536",
   "metadata": {},
   "outputs": [],
   "source": [
    "### Question 9:"
   ]
  },
  {
   "cell_type": "code",
   "execution_count": 2,
   "id": "30de688b-23eb-4bc9-8ec3-ac292790ed48",
   "metadata": {},
   "outputs": [],
   "source": [
    "import pandas as pd\n",
    "\n",
    "data=pd.DataFrame({'Name':['Karan','Deepa','Karthik','Chandan','Jeevan'],\n",
    "              'Exam 1':[85,70,90,75,95],\n",
    "              'Exam 2':[90,80,85,70,92],\n",
    "              'Final Exam':[92,85,88,75,96]\n",
    "            })"
   ]
  },
  {
   "cell_type": "markdown",
   "id": "1700eb62-b6dd-4d0c-8548-e5b6c6c92a50",
   "metadata": {},
   "source": [
    "##### 1. Null Hypothesis: The mean score of all the students is equal\n",
    "##### 2. Alternative Hypothesis: The mean score of atleast one student is different "
   ]
  },
  {
   "cell_type": "code",
   "execution_count": 6,
   "id": "77a1de1c-3e41-420f-960e-2b34e9cbbc7e",
   "metadata": {},
   "outputs": [
    {
     "name": "stdout",
     "output_type": "stream",
     "text": [
      "0.7295954253321559\n",
      "Fail to reject null hypothesis: Therefore,the mean score of all the students is equal\n"
     ]
    }
   ],
   "source": [
    "### Let us perform ANOVA test, as there are means of more than two variables present\n",
    "from scipy.stats import f_oneway\n",
    "\n",
    "f_score,p_value=f_oneway(data['Exam 1'],data['Exam 2'],data['Final Exam'])\n",
    "print(p_value)\n",
    "if p_value<0.05:\n",
    "    print('Reject Null Hypothesis: Therefore,the mean score of all the students is not equal')\n",
    "else:\n",
    "    print('Fail to reject null hypothesis: Therefore,the mean score of all the students is equal')"
   ]
  },
  {
   "cell_type": "code",
   "execution_count": null,
   "id": "b5d41c7e-3fea-4fed-aaf9-5393af2fd70b",
   "metadata": {},
   "outputs": [],
   "source": []
  }
 ],
 "metadata": {
  "kernelspec": {
   "display_name": "Python 3 (ipykernel)",
   "language": "python",
   "name": "python3"
  },
  "language_info": {
   "codemirror_mode": {
    "name": "ipython",
    "version": 3
   },
   "file_extension": ".py",
   "mimetype": "text/x-python",
   "name": "python",
   "nbconvert_exporter": "python",
   "pygments_lexer": "ipython3",
   "version": "3.10.6"
  }
 },
 "nbformat": 4,
 "nbformat_minor": 5
}
